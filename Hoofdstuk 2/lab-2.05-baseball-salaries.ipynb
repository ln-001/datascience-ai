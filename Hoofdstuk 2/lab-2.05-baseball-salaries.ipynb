{
 "cells": [
  {
   "cell_type": "markdown",
   "metadata": {
    "id": "dYTxJWJG5miJ"
   },
   "source": [
    "# Lab 2.05 - Univariate Analysis\n"
   ]
  },
  {
   "cell_type": "code",
   "metadata": {
    "id": "MvwMKfrI8X-p",
    "ExecuteTime": {
     "end_time": "2024-05-09T12:15:03.961131Z",
     "start_time": "2024-05-09T12:15:03.954574Z"
    }
   },
   "source": [
    "# Importing the necessary packages\n",
    "import numpy as np                                  # \"Scientific computing\"\n",
    "import scipy.stats as stats                         # Statistical tests\n",
    "\n",
    "import pandas as pd                                 # Data Frame\n",
    "from pandas.api.types import CategoricalDtype\n",
    "\n",
    "import matplotlib.pyplot as plt                     # Basic visualisation\n",
    "from statsmodels.graphics.mosaicplot import mosaic  # Mosaic diagram\n",
    "import seaborn as sns                               # Advanced data visualisation"
   ],
   "outputs": [],
   "execution_count": 2
  },
  {
   "cell_type": "markdown",
   "metadata": {
    "id": "M09gxg4SK4CJ"
   },
   "source": [
    "## Exercise 5 - Baseball Salaries\n",
    "\n",
    "The file Baseball Salaries contains data on 868 Major League Baseball (MLB) players in the 2011 season. There are four variables: the player's name, team, position, and salary. How can these 868 salaries be summarized?\n",
    "\n",
    "- Calculate the mean, the median and the mode (i.e. measures of central tendency)\n",
    "- Calculate the minimum, maximum, quartiles\n",
    "- Calculate the range, interquartile range, variance, standard deviation (i.e. measures of variability)\n",
    "- Calculate the skewness and Kurtosis (i.e. measures of shape)\n",
    "- Draw a histogram. Use 11 bins with equal width. Does it indicate skewness?\n",
    "- Draw a boxplot. Does it indicate skewness?"
   ]
  },
  {
   "cell_type": "code",
   "metadata": {
    "colab": {
     "base_uri": "https://localhost:8080/",
     "height": 206
    },
    "id": "aFO1zL_bZ51g",
    "outputId": "e4be8f90-34ae-488d-df3e-b425fe323356",
    "ExecuteTime": {
     "end_time": "2024-05-09T12:15:04.342466Z",
     "start_time": "2024-05-09T12:15:04.044298Z"
    }
   },
   "source": [
    "bb = pd.read_csv('https://raw.githubusercontent.com/HoGentTIN/dsai-labs/main/data/Baseball%20Salaries%202011.csv', delimiter=\";\")\n",
    "# Show the first few records of the Data Frame\n",
    "bb.head()"
   ],
   "outputs": [
    {
     "data": {
      "text/plain": [
       "            Player                 Team Position    Salary\n",
       "0     A.J. Burnett     New York Yankees  Pitcher  16500000\n",
       "1       A.J. Ellis  Los Angeles Dodgers  Catcher    421000\n",
       "2  A.J. Pierzynski    Chicago White Sox  Catcher   2000000\n",
       "3       Aaron Cook     Colorado Rockies  Pitcher   9875000\n",
       "4       Aaron Crow   Kansas City Royals  Pitcher   1400000"
      ],
      "text/html": [
       "<div>\n",
       "<style scoped>\n",
       "    .dataframe tbody tr th:only-of-type {\n",
       "        vertical-align: middle;\n",
       "    }\n",
       "\n",
       "    .dataframe tbody tr th {\n",
       "        vertical-align: top;\n",
       "    }\n",
       "\n",
       "    .dataframe thead th {\n",
       "        text-align: right;\n",
       "    }\n",
       "</style>\n",
       "<table border=\"1\" class=\"dataframe\">\n",
       "  <thead>\n",
       "    <tr style=\"text-align: right;\">\n",
       "      <th></th>\n",
       "      <th>Player</th>\n",
       "      <th>Team</th>\n",
       "      <th>Position</th>\n",
       "      <th>Salary</th>\n",
       "    </tr>\n",
       "  </thead>\n",
       "  <tbody>\n",
       "    <tr>\n",
       "      <th>0</th>\n",
       "      <td>A.J. Burnett</td>\n",
       "      <td>New York Yankees</td>\n",
       "      <td>Pitcher</td>\n",
       "      <td>16500000</td>\n",
       "    </tr>\n",
       "    <tr>\n",
       "      <th>1</th>\n",
       "      <td>A.J. Ellis</td>\n",
       "      <td>Los Angeles Dodgers</td>\n",
       "      <td>Catcher</td>\n",
       "      <td>421000</td>\n",
       "    </tr>\n",
       "    <tr>\n",
       "      <th>2</th>\n",
       "      <td>A.J. Pierzynski</td>\n",
       "      <td>Chicago White Sox</td>\n",
       "      <td>Catcher</td>\n",
       "      <td>2000000</td>\n",
       "    </tr>\n",
       "    <tr>\n",
       "      <th>3</th>\n",
       "      <td>Aaron Cook</td>\n",
       "      <td>Colorado Rockies</td>\n",
       "      <td>Pitcher</td>\n",
       "      <td>9875000</td>\n",
       "    </tr>\n",
       "    <tr>\n",
       "      <th>4</th>\n",
       "      <td>Aaron Crow</td>\n",
       "      <td>Kansas City Royals</td>\n",
       "      <td>Pitcher</td>\n",
       "      <td>1400000</td>\n",
       "    </tr>\n",
       "  </tbody>\n",
       "</table>\n",
       "</div>"
      ]
     },
     "execution_count": 3,
     "metadata": {},
     "output_type": "execute_result"
    }
   ],
   "execution_count": 3
  },
  {
   "cell_type": "code",
   "metadata": {
    "id": "BkLIdzVpbpdg",
    "ExecuteTime": {
     "end_time": "2024-05-09T12:15:04.821231Z",
     "start_time": "2024-05-09T12:15:04.343801Z"
    }
   },
   "source": "sns.displot(x=bb['Salary'], kde=True)",
   "outputs": [
    {
     "data": {
      "text/plain": [
       "<seaborn.axisgrid.FacetGrid at 0x16acb3fb0>"
      ]
     },
     "execution_count": 4,
     "metadata": {},
     "output_type": "execute_result"
    },
    {
     "data": {
      "text/plain": [
       "<Figure size 500x500 with 1 Axes>"
      ],
      "image/png": "[encoded data removed]"
     },
     "metadata": {},
     "output_type": "display_data"
    }
   ],
   "execution_count": 4
  },
  {
   "cell_type": "code",
   "metadata": {
    "id": "lV2zlm4lc3FW",
    "ExecuteTime": {
     "end_time": "2024-05-09T12:15:04.963477Z",
     "start_time": "2024-05-09T12:15:04.823023Z"
    }
   },
   "source": "sns.boxplot(x=bb['Salary'])",
   "outputs": [
    {
     "data": {
      "text/plain": [
       "<Axes: xlabel='Salary'>"
      ]
     },
     "execution_count": 5,
     "metadata": {},
     "output_type": "execute_result"
    },
    {
     "data": {
      "text/plain": [
       "<Figure size 640x480 with 1 Axes>"
      ],
      "image/png": "[encoded data removed]"
     },
     "metadata": {},
     "output_type": "display_data"
    }
   ],
   "execution_count": 5
  },
  {
   "cell_type": "code",
   "metadata": {
    "id": "k-w4eyABcp-I",
    "ExecuteTime": {
     "end_time": "2024-05-09T12:15:04.980298Z",
     "start_time": "2024-05-09T12:15:04.965635Z"
    }
   },
   "source": [
    "mean = bb['Salary'].mean()\n",
    "median = bb['Salary'].median()\n",
    "mode = bb['Salary'].mode()\n",
    "std = bb['Salary'].std()\n",
    "var = bb['Salary'].var()\n",
    "skw = bb['Salary'].skew()\n",
    "kur = bb['Salary'].kurtosis()\n",
    "min = bb['Salary'].min()\n",
    "max = bb['Salary'].max()\n",
    "range = bb['Salary'].max() - bb['Salary'].min()\n",
    "percentiles = [0.0, 0.25, 0.5, 0.75, 1.0]\n",
    "inter_quartile_range = bb['Salary'].quantile(.75) - bb['Salary'].quantile(.25)\n",
    "print(\"Mean:\", mean)\n",
    "print(\"Median:\", median)\n",
    "print(\"Mode:\", mode)\n",
    "print(\"Std:\", std)\n",
    "print(\"Var:\", var)\n",
    "print(\"Skw:\", skw)\n",
    "print(\"Kur:\", kur)\n",
    "print(\"Min:\", min)\n",
    "print(\"Max:\", max)\n",
    "print(\"Range:\", range)\n",
    "print(\"Inter Quartile Range:\", inter_quartile_range)\n",
    "print(\"Percentiles\", percentiles, \"\\n\", bb['Salary'].quantile(percentiles))\n"
   ],
   "outputs": [
    {
     "name": "stdout",
     "output_type": "stream",
     "text": [
      "Mean: 3305054.674970344\n",
      "Median: 1175000.0\n",
      "Mode: 0    414000\n",
      "Name: Salary, dtype: int64\n",
      "Std: 4534742.272591989\n",
      "Var: 20563887478832.75\n",
      "Skw: 2.2568268174928376\n",
      "Kur: 5.723259126341153\n",
      "Min: 414000\n",
      "Max: 32000000\n",
      "Range: 31586000\n",
      "Inter Quartile Range: 3875925.0\n",
      "Percentiles [0.0, 0.25, 0.5, 0.75, 1.0] \n",
      " 0.00      414000.0\n",
      "0.25      430325.0\n",
      "0.50     1175000.0\n",
      "0.75     4306250.0\n",
      "1.00    32000000.0\n",
      "Name: Salary, dtype: float64\n"
     ]
    }
   ],
   "execution_count": 6
  },
  {
   "cell_type": "markdown",
   "metadata": {},
   "source": [
    "\n",
    "## Answers\n",
    "\n",
    "|      Statistic       |              Value |\n",
    "| :------------------: | -----------------: |\n",
    "|         Mean         |        3305054.675 |\n",
    "|        Median        |          1175000.0 |\n",
    "|         Mode         |        0    414000 |\n",
    "|  Standard deviation  |        4534742.273 |\n",
    "|       Variance       | 20563887478832.742 |\n",
    "|       Skewness       |              2.257 |\n",
    "|       Kurtosis       |              5.723 |\n",
    "|       Minimum        |             414000 |\n",
    "|        Median        |          1175000.0 |\n",
    "|       Maximum        |           32000000 |\n",
    "| Inter Quartile Range |          3875925.0 |\n",
    "|        Range         |           31586000 |\n",
    "\n",
    "| Percentiles  |       Value |\n",
    "| :----------: | ----------: |\n",
    "|     0.00     |    414000.0 |\n",
    "|     0.25     |    430325.0 |\n",
    "|     0.50     |   1175000.0 |\n",
    "|     0.75     |   4306250.0 |\n",
    "|     1.00     |  32000000.0 |\n"
   ]
  }
 ],
 "metadata": {
  "colab": {
   "provenance": []
  },
  "gpuClass": "standard",
  "kernelspec": {
   "display_name": "Python 3 (ipykernel)",
   "name": "python3",
   "language": "python"
  },
  "language_info": {
   "name": "python"
  },
  "orig_nbformat": 4
 },
 "nbformat": 4,
 "nbformat_minor": 0
}
