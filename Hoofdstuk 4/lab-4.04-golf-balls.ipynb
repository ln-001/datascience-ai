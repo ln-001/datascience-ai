{
 "cells": [
  {
   "cell_type": "markdown",
   "metadata": {
    "id": "xDBTRYzLSeM_"
   },
   "source": [
    "# Lab 4.04 - Bivariate Analysis of Qualitative Data"
   ]
  },
  {
   "cell_type": "code",
   "metadata": {
    "id": "j8I-eUfMSeNF",
    "ExecuteTime": {
     "end_time": "2024-05-30T16:23:30.009016Z",
     "start_time": "2024-05-30T16:23:30.003811Z"
    }
   },
   "source": [
    "# Importing the necessary packages\n",
    "import numpy as np                                  # \"Scientific computing\"\n",
    "import scipy.stats as stats                         # Statistical tests\n",
    "\n",
    "import pandas as pd                                 # Data Frame\n",
    "from pandas.api.types import CategoricalDtype\n",
    "\n",
    "import matplotlib.pyplot as plt                     # Basic visualisation\n",
    "from statsmodels.graphics.mosaicplot import mosaic  # Mosaic diagram\n",
    "import seaborn as sns                               # Advanced data visualisation"
   ],
   "outputs": [],
   "execution_count": 1
  },
  {
   "cell_type": "markdown",
   "metadata": {
    "id": "vN3yNSGKq2c5"
   },
   "source": [
    "## Exercise 4 - Golf balls\n",
    "\n",
    "Callaway is thinking about entering the golf ball market. The company will make a profit if its market share is more than 20%. A market survey indicates that 140\n",
    "of 624 golf ball purchasers will buy a Callaway golf ball.\n",
    "\n",
    "Is this enough evidence to persuade Callaway to enter the golf ball market?\n",
    "\n",
    "Results of the main calculations\n",
    "\n",
    "- χ² = 2.3141\n",
    "- p-value  p = 0.1282"
   ]
  },
  {
   "cell_type": "code",
   "metadata": {
    "id": "Jz2IYSgQr_JY",
    "ExecuteTime": {
     "end_time": "2024-05-30T16:33:31.440874Z",
     "start_time": "2024-05-30T16:33:31.433538Z"
    }
   },
   "source": [
    "observed =   np.array([140, 484])\n",
    "expected_p = np.array([0.2, 0.8])\n",
    "\n",
    "alpha = 0.05               # Significance level\n",
    "n = sum(observed)          # Sample size\n",
    "k = len(observed)          # Number of categories\n",
    "dof = k - 1                # Degrees of freedom\n",
    "expected = expected_p * n  # Expected absolute frequencies in the sample\n",
    "g = stats.chi2.isf(alpha, df=dof)  # Critical value\n",
    "\n",
    "# Goodness-of-fit-test in Python:\n",
    "chi2, p = stats.chisquare(f_obs=observed, f_exp=expected)\n",
    "\n",
    "print(\"Significance level  ⍺ = %.2f\" % alpha)\n",
    "print(\"Sample size         n = %d\" % n)\n",
    "print(\"k = %d; df = %d\" % (k, dof))\n",
    "print(\"Chi-squared        χ² = %.4f\" % chi2)\n",
    "print(\"Critical value      g = %.4f\" % g)\n",
    "print(\"p-value             p = %.4f\" % p)"
   ],
   "outputs": [
    {
     "name": "stdout",
     "output_type": "stream",
     "text": [
      "Significance level  ⍺ = 0.05\n",
      "Sample size         n = 624\n",
      "k = 2; df = 1\n",
      "Chi-squared        χ² = 2.3141\n",
      "Critical value      g = 3.8415\n",
      "p-value             p = 0.1282\n"
     ]
    }
   ],
   "execution_count": 2
  }
 ],
 "metadata": {
  "colab": {
   "provenance": []
  },
  "interpreter": {
   "hash": "e7370f93d1d0cde622a1f8e1c04877d8463912d04d973331ad4851f04de6915a"
  },
  "kernelspec": {
   "display_name": "Python 3.10.0 64-bit",
   "language": "python",
   "name": "python3"
  },
  "language_info": {
   "codemirror_mode": {
    "name": "ipython",
    "version": 3
   },
   "file_extension": ".py",
   "mimetype": "text/x-python",
   "name": "python",
   "nbconvert_exporter": "python",
   "pygments_lexer": "ipython3",
   "version": "3.10.2"
  },
  "orig_nbformat": 4
 },
 "nbformat": 4,
 "nbformat_minor": 0
}
