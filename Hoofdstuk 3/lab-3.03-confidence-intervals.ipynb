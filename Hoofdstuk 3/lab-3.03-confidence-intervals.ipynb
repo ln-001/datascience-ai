{
 "cells": [
  {
   "cell_type": "markdown",
   "metadata": {
    "id": "M179_lET0jSn"
   },
   "source": [
    "# Lab 3.03 - Confidence intervals\n"
   ]
  },
  {
   "cell_type": "code",
   "metadata": {
    "ExecuteTime": {
     "end_time": "2024-05-29T20:22:56.468806Z",
     "start_time": "2024-05-29T20:22:56.465079Z"
    }
   },
   "source": [
    "# Importing the necessary packages\n",
    "import numpy as np                                  # \"Scientific computing\"\n",
    "import scipy.stats as stats                         # Statistical tests\n",
    "\n",
    "import random\n",
    "import math\n",
    "\n",
    "import pandas as pd                                 # Data Frame\n",
    "from pandas.api.types import CategoricalDtype\n",
    "\n",
    "import matplotlib.pyplot as plt                     # Basic visualisation\n",
    "from statsmodels.graphics.mosaicplot import mosaic  # Mosaic diagram\n",
    "import seaborn as sns                               # Advanced data visualisation"
   ],
   "outputs": [],
   "execution_count": 27
  },
  {
   "cell_type": "markdown",
   "metadata": {
    "id": "c0Q7INQrFUZK"
   },
   "source": [
    "## Exercise 3.1 - rlanders\n",
    "\n",
    "Load the dataset data/rlanders.csv. Use the column Money.  \n",
    "We assume that the values from this sample are normally distributed around a population mean $\\mu$ that is unknown, but that the standard deviation of the population is known, i.e. $\\sigma = 98$.\n"
   ]
  },
  {
   "cell_type": "code",
   "metadata": {
    "colab": {
     "base_uri": "https://localhost:8080/",
     "height": 206
    },
    "id": "X8SWRipx3I9_",
    "outputId": "90a9819a-4e5a-4a35-ed25-233824cd0809",
    "ExecuteTime": {
     "end_time": "2024-05-29T19:43:50.346916Z",
     "start_time": "2024-05-29T19:43:49.966830Z"
    }
   },
   "source": [
    "df = pd.read_csv('https://raw.githubusercontent.com/HoGentTIN/dsai-en-labs/main/data/rlanders.csv').set_index(['ID'])\n",
    "# Show the first few records of the Data Frame\n",
    "df.head()"
   ],
   "outputs": [
    {
     "data": {
      "text/plain": [
       "    Gender  Money  Days  Months  Count  Survey\n",
       "ID                                            \n",
       "1   Female    440    29      11     35       3\n",
       "2   Female    503    23      10     52       3\n",
       "3     Male    412    16      11     55       3\n",
       "4     Male    587    25       9     28       5\n",
       "5     Male    525    30      11     41       4"
      ],
      "text/html": [
       "<div>\n",
       "<style scoped>\n",
       "    .dataframe tbody tr th:only-of-type {\n",
       "        vertical-align: middle;\n",
       "    }\n",
       "\n",
       "    .dataframe tbody tr th {\n",
       "        vertical-align: top;\n",
       "    }\n",
       "\n",
       "    .dataframe thead th {\n",
       "        text-align: right;\n",
       "    }\n",
       "</style>\n",
       "<table border=\"1\" class=\"dataframe\">\n",
       "  <thead>\n",
       "    <tr style=\"text-align: right;\">\n",
       "      <th></th>\n",
       "      <th>Gender</th>\n",
       "      <th>Money</th>\n",
       "      <th>Days</th>\n",
       "      <th>Months</th>\n",
       "      <th>Count</th>\n",
       "      <th>Survey</th>\n",
       "    </tr>\n",
       "    <tr>\n",
       "      <th>ID</th>\n",
       "      <th></th>\n",
       "      <th></th>\n",
       "      <th></th>\n",
       "      <th></th>\n",
       "      <th></th>\n",
       "      <th></th>\n",
       "    </tr>\n",
       "  </thead>\n",
       "  <tbody>\n",
       "    <tr>\n",
       "      <th>1</th>\n",
       "      <td>Female</td>\n",
       "      <td>440</td>\n",
       "      <td>29</td>\n",
       "      <td>11</td>\n",
       "      <td>35</td>\n",
       "      <td>3</td>\n",
       "    </tr>\n",
       "    <tr>\n",
       "      <th>2</th>\n",
       "      <td>Female</td>\n",
       "      <td>503</td>\n",
       "      <td>23</td>\n",
       "      <td>10</td>\n",
       "      <td>52</td>\n",
       "      <td>3</td>\n",
       "    </tr>\n",
       "    <tr>\n",
       "      <th>3</th>\n",
       "      <td>Male</td>\n",
       "      <td>412</td>\n",
       "      <td>16</td>\n",
       "      <td>11</td>\n",
       "      <td>55</td>\n",
       "      <td>3</td>\n",
       "    </tr>\n",
       "    <tr>\n",
       "      <th>4</th>\n",
       "      <td>Male</td>\n",
       "      <td>587</td>\n",
       "      <td>25</td>\n",
       "      <td>9</td>\n",
       "      <td>28</td>\n",
       "      <td>5</td>\n",
       "    </tr>\n",
       "    <tr>\n",
       "      <th>5</th>\n",
       "      <td>Male</td>\n",
       "      <td>525</td>\n",
       "      <td>30</td>\n",
       "      <td>11</td>\n",
       "      <td>41</td>\n",
       "      <td>4</td>\n",
       "    </tr>\n",
       "  </tbody>\n",
       "</table>\n",
       "</div>"
      ]
     },
     "execution_count": 2,
     "metadata": {},
     "output_type": "execute_result"
    }
   ],
   "execution_count": 2
  },
  {
   "cell_type": "markdown",
   "metadata": {
    "id": "micQS-lB-91P"
   },
   "source": [
    "Calculate a 99% confidence interval for the population mean (Answer: [484.191, 516.121])."
   ]
  },
  {
   "cell_type": "code",
   "metadata": {
    "id": "9fpkhHkK5W4n",
    "ExecuteTime": {
     "end_time": "2024-05-29T20:14:49.060735Z",
     "start_time": "2024-05-29T20:14:49.056014Z"
    }
   },
   "source": [
    "import math\n",
    "# Step 1.\n",
    "m = df[\"Money\"].mean() # Sample mean\n",
    "s = 98     # Population standard deviation\n",
    "n = df[\"Money\"].count()      # Sample size\n",
    "alpha = .01  # 1 - alpha is the confidence level\n",
    "\n",
    "# Step 2.\n",
    "z = stats.norm.isf(alpha/2)\n",
    "print(\"z-score: %.5f\" % z)\n",
    "\n",
    "# Step 3.\n",
    "lo = m - z * s / np.sqrt(n)\n",
    "hi = m + z * s / np.sqrt(n)\n",
    "print(\"Confidence interval: [%.4f, %.4f]\" % (lo, hi))"
   ],
   "outputs": [
    {
     "name": "stdout",
     "output_type": "stream",
     "text": [
      "z-score: 2.57583\n",
      "Confidence interval: [484.1908, 516.1212]\n"
     ]
    }
   ],
   "execution_count": 13
  },
  {
   "cell_type": "markdown",
   "metadata": {
    "id": "ECERz_63_By6"
   },
   "source": [
    "Calculate a 95% confidence interval for the population mean. (Answer =  [488.008, 512.304])"
   ]
  },
  {
   "cell_type": "code",
   "metadata": {
    "id": "QN2HodqW-aOS",
    "ExecuteTime": {
     "end_time": "2024-05-29T20:00:55.062154Z",
     "start_time": "2024-05-29T20:00:55.056812Z"
    }
   },
   "source": [
    "import math\n",
    "# Step 1.\n",
    "m = df[\"Money\"].mean() # Sample mean\n",
    "s = 98     # Population standard deviation\n",
    "n = df[\"Money\"].count()      # Sample size\n",
    "alpha = .05  # 1 - alpha is the confidence level\n",
    "\n",
    "# Step 2.\n",
    "z = stats.norm.isf(alpha/2)\n",
    "print(\"z-score: %.5f\" % z)\n",
    "\n",
    "# Step 3.\n",
    "lo = m - z * s / np.sqrt(n)\n",
    "hi = m + z * s / np.sqrt(n)\n",
    "print(\"Confidence interval: [%.4f, %.4f]\" % (lo, hi))"
   ],
   "outputs": [
    {
     "name": "stdout",
     "output_type": "stream",
     "text": [
      "z-score: 1.95996\n",
      "Confidence interval: [488.0080, 512.3040]\n"
     ]
    }
   ],
   "execution_count": 10
  },
  {
   "cell_type": "markdown",
   "metadata": {
    "id": "T_tvkbrf_InR"
   },
   "source": [
    "Suppose σ is unknown, calculate a 95% confidence interval for the population mean. (Answer = [487.319, 512.993])"
   ]
  },
  {
   "cell_type": "code",
   "metadata": {
    "id": "NHUe10TR_H-I",
    "ExecuteTime": {
     "end_time": "2024-05-29T20:13:15.513994Z",
     "start_time": "2024-05-29T20:13:15.505778Z"
    }
   },
   "source": [
    "import math\n",
    "# Step 1.\n",
    "m = df[\"Money\"].mean()  # Sample mean\n",
    "s = df[\"Money\"].std()   # Population standard deviation\n",
    "n = df[\"Money\"].count() # Sample size\n",
    "alpha = .05  # 1 - alpha is the confidence level\n",
    "\n",
    "# Step 2.\n",
    "z = stats.norm.isf(alpha/2)\n",
    "print(\"z-score: %.5f\" % z)\n",
    "\n",
    "# Step 3.\n",
    "lo = m - z * s / np.sqrt(n)\n",
    "hi = m + z * s / np.sqrt(n)\n",
    "print(\"Confidence interval: [%.4f, %.4f]\" % (lo, hi))"
   ],
   "outputs": [
    {
     "name": "stdout",
     "output_type": "stream",
     "text": [
      "z-score: 1.95996\n",
      "Confidence interval: [487.3813, 512.9307]\n"
     ]
    }
   ],
   "execution_count": 12
  },
  {
   "cell_type": "markdown",
   "metadata": {
    "id": "OPNlp4TS_nU3"
   },
   "source": [
    "Finally, suppose the sample consists of only the first 25 observations in this dataset. Calculate a 95% confidence interval for this situation.  \n",
    "(Answer = [450.291,536.669])"
   ]
  },
  {
   "cell_type": "code",
   "metadata": {
    "id": "5_73IDTY_sgO",
    "ExecuteTime": {
     "end_time": "2024-05-29T20:35:52.962427Z",
     "start_time": "2024-05-29T20:35:52.953720Z"
    }
   },
   "source": [
    "import math\n",
    "# Step 1.\n",
    "m = df[\"Money\"][:25].mean()  # Sample mean\n",
    "s = df[\"Money\"][:25].std()        # Population standard deviation\n",
    "n = df[\"Money\"][:25].count()                       # Sample size\n",
    "alpha = .05  # 1 - alpha is the confidence level\n",
    "\n",
    "# Step 2.\n",
    "z = stats.t.isf(alpha/2, df=n-1)\n",
    "print(\"z-score: %.5f\" % z)\n",
    "\n",
    "# Step 3.\n",
    "lo = m - z * s / np.sqrt(n)\n",
    "hi = m + z * s / np.sqrt(n)\n",
    "print(\"Confidence interval: [%.4f, %.4f]\" % (lo, hi))"
   ],
   "outputs": [
    {
     "name": "stdout",
     "output_type": "stream",
     "text": [
      "z-score: 2.06390\n",
      "Confidence interval: [450.2912, 536.6688]\n"
     ]
    }
   ],
   "execution_count": 30
  },
  {
   "cell_type": "markdown",
   "metadata": {},
   "source": [
    "## Exercise 3.2\n",
    "\n",
    "1. How do you calculate the upper and lower limits of a 95% and 99% confidence interval?\n",
    "2. A 99% confidence interval is [wider/narrower/the same width] as a 95% confidence interval. Why?\n",
    "3. What would a 100% confidence interval look like?"
   ]
  },
  {
   "metadata": {},
   "cell_type": "code",
   "outputs": [],
   "execution_count": null,
   "source": [
    "#1 - zie vorige oefeningen\n",
    "#2 - wider\n",
    "#3 - [-inf,inf]"
   ]
  }
 ],
 "metadata": {
  "colab": {
   "collapsed_sections": [],
   "name": "lab-3-01.ipynb",
   "provenance": []
  },
  "kernelspec": {
   "display_name": "Python 3 (ipykernel)",
   "name": "python3",
   "language": "python"
  },
  "language_info": {
   "codemirror_mode": {
    "name": "ipython",
    "version": 3
   },
   "file_extension": ".py",
   "mimetype": "text/x-python",
   "name": "python",
   "nbconvert_exporter": "python",
   "pygments_lexer": "ipython3",
   "version": "3.10.2"
  },
  "orig_nbformat": 4
 },
 "nbformat": 4,
 "nbformat_minor": 0
}
