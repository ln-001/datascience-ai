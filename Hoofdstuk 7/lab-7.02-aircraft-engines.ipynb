{
 "cells": [
  {
   "cell_type": "markdown",
   "metadata": {
    "id": "ifLP6PF2VNyG"
   },
   "source": [
    "# Lab 7.02 - Time series analysis"
   ]
  },
  {
   "cell_type": "code",
   "metadata": {
    "id": "PwYaTAjzVNyI",
    "ExecuteTime": {
     "end_time": "2024-06-07T17:01:04.775644Z",
     "start_time": "2024-06-07T17:01:04.516864Z"
    }
   },
   "source": [
    "# Package imports for data science and time series analysis in particular\n",
    "import numpy as np                                  # \"Scientific computing\"\n",
    "import pandas as pd                                 # Dataframe\n",
    "import scipy.stats as stats                         # Statistical tests\n",
    "\n",
    "import matplotlib.pyplot as plt                     # Basic visualisation\n",
    "import seaborn as sns                               # Advanced dataviz\n",
    "\n",
    "from sklearn.linear_model import LinearRegression   # Linear regression model\n",
    "\n",
    "# Time series analysis\n",
    "from datetime import datetime\n",
    "from sklearn.metrics import mean_absolute_error,mean_squared_error\n",
    "from statsmodels.tsa.api import Holt\n",
    "from statsmodels.tsa.holtwinters import ExponentialSmoothing\n",
    "from statsmodels.tsa.seasonal import seasonal_decompose# Package imports"
   ],
   "outputs": [],
   "execution_count": 1
  },
  {
   "cell_type": "markdown",
   "metadata": {
    "id": "z8e3JogMwQLG"
   },
   "source": [
    "## Exercise 2 - aircraft engines\n",
    "\n",
    "You have been assigned to forecast the number of aircraft engines ordered each month from an engine manufacturing company. At the end of February, the\n",
    "forecast is that 100 engines will be ordered during April.\n",
    "Then during March, 120 engines are actually ordered.  \n",
    "Using $\\alpha$ = 0.3, determine a forecast (at the end of March) for the number of orders placed during April and during May. Use simple exponential\n",
    "smoothing.  \n",
    "These are the appropriate formulae\n",
    "\n",
    "$X_t = \\alpha x_t + (1 - \\alpha) X_{t-1}$\n",
    "\n",
    "$F_{t+m} = X_t$"
   ]
  },
  {
   "cell_type": "code",
   "metadata": {
    "ExecuteTime": {
     "end_time": "2024-06-07T17:16:38.387280Z",
     "start_time": "2024-06-07T17:16:38.383969Z"
    }
   },
   "source": [
    "alpha = 0.3\n",
    "m = 4\n",
    "x_t = 120\n",
    "x_t_1 = 100\n",
    "\n",
    "\n",
    "X_t  = alpha * x_t + (1 - alpha) * x_t_1\n",
    "print('X_t =',X_t)"
   ],
   "outputs": [
    {
     "name": "stdout",
     "output_type": "stream",
     "text": [
      "X_t = 106.0\n"
     ]
    }
   ],
   "execution_count": 3
  },
  {
   "cell_type": "markdown",
   "metadata": {
    "id": "OzaYuRuogzWf"
   },
   "source": [
    "## Source\n",
    "Business Analytics Data Analysis & Decision Making "
   ]
  }
 ],
 "metadata": {
  "colab": {
   "provenance": []
  },
  "interpreter": {
   "hash": "e7370f93d1d0cde622a1f8e1c04877d8463912d04d973331ad4851f04de6915a"
  },
  "kernelspec": {
   "display_name": "Python 3.10.3 64-bit",
   "language": "python",
   "name": "python3"
  },
  "language_info": {
   "codemirror_mode": {
    "name": "ipython",
    "version": 3
   },
   "file_extension": ".py",
   "mimetype": "text/x-python",
   "name": "python",
   "nbconvert_exporter": "python",
   "pygments_lexer": "ipython3",
   "version": "3.10.4"
  },
  "orig_nbformat": 4
 },
 "nbformat": 4,
 "nbformat_minor": 0
}
