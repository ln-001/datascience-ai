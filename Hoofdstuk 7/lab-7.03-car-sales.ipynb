{
 "cells": [
  {
   "cell_type": "markdown",
   "metadata": {
    "id": "ifLP6PF2VNyG"
   },
   "source": [
    "# Lab 7.03 - Time series analysis"
   ]
  },
  {
   "cell_type": "code",
   "metadata": {
    "id": "PwYaTAjzVNyI",
    "ExecuteTime": {
     "end_time": "2024-06-07T17:01:54.001709Z",
     "start_time": "2024-06-07T17:01:53.996963Z"
    }
   },
   "source": [
    "# Package imports for data science and time series analysis in particular\n",
    "import numpy as np                                  # \"Scientific computing\"\n",
    "import pandas as pd                                 # Dataframe\n",
    "import scipy.stats as stats                         # Statistical tests\n",
    "\n",
    "import matplotlib.pyplot as plt                     # Basic visualisation\n",
    "import seaborn as sns                               # Advanced dataviz\n",
    "\n",
    "from sklearn.linear_model import LinearRegression   # Linear regression model\n",
    "\n",
    "# Time series analysis\n",
    "from datetime import datetime\n",
    "from sklearn.metrics import mean_absolute_error,mean_squared_error\n",
    "from statsmodels.tsa.api import Holt\n",
    "from statsmodels.tsa.holtwinters import ExponentialSmoothing\n",
    "from statsmodels.tsa.seasonal import seasonal_decompose"
   ],
   "outputs": [],
   "execution_count": 3
  },
  {
   "cell_type": "markdown",
   "metadata": {
    "id": "nsaevyk8itxA"
   },
   "source": [
    "## Exercise 3 - Car sales\n",
    "\n",
    "An automobile dealer is using Holt's method to\n",
    "forecast weekly car sales. Currently, the level is\n",
    "estimated to be 50 cars per week, and the trend is\n",
    "estimated to be six cars per week. During the current\n",
    "week, 30 cars are sold. After observing the current\n",
    "week's sales, forecast the number of cars three weeks\n",
    "from now. Use $α = $β = 0.3.\n",
    "\n",
    "These are the appropriate formulae\n",
    "\n",
    "$X_{t} = \\alpha x_{t} + (1-\\alpha)(X_{t-1} + b_{t-1})$\n",
    "\n",
    "$b_{t} = \\beta(X_{t}-X_{t-1}) + (1-\\beta)b_{t-1}$\n",
    "\n",
    "$F_{t+m} = X_t + mb_t$"
   ]
  },
  {
   "cell_type": "code",
   "metadata": {
    "ExecuteTime": {
     "end_time": "2024-06-07T17:12:48.538209Z",
     "start_time": "2024-06-07T17:12:48.534376Z"
    }
   },
   "source": [
    "#period\n",
    "m = 3\n",
    "#current\n",
    "x_t = 30\n",
    "#previous\n",
    "X_t_1 = 50\n",
    "#trend\n",
    "b_t_minus_1 = 6\n",
    "\n",
    "alpha = 0.3\n",
    "beta = 0.3\n",
    "\n",
    "X_t = alpha * x_t + (1-alpha) * (X_t_1 + b_t_minus_1)\n",
    "b_t = beta * (X_t - X_t_1) + (1 - beta) * b_t_minus_1\n",
    "F_t_plus_3 = X_t + m * b_t\n",
    "\n",
    "print('F_t_plus_3: ', F_t_plus_3)"
   ],
   "outputs": [
    {
     "name": "stdout",
     "output_type": "stream",
     "text": [
      "F_t_plus_3:  59.17999999999999\n"
     ]
    }
   ],
   "execution_count": 6
  },
  {
   "cell_type": "markdown",
   "metadata": {
    "id": "OzaYuRuogzWf"
   },
   "source": [
    "## Source\n",
    "Business Analytics Data Analysis & Decision Making "
   ]
  }
 ],
 "metadata": {
  "colab": {
   "provenance": []
  },
  "interpreter": {
   "hash": "e7370f93d1d0cde622a1f8e1c04877d8463912d04d973331ad4851f04de6915a"
  },
  "kernelspec": {
   "display_name": "Python 3.10.3 64-bit",
   "language": "python",
   "name": "python3"
  },
  "language_info": {
   "codemirror_mode": {
    "name": "ipython",
    "version": 3
   },
   "file_extension": ".py",
   "mimetype": "text/x-python",
   "name": "python",
   "nbconvert_exporter": "python",
   "pygments_lexer": "ipython3",
   "version": "3.10.4"
  },
  "orig_nbformat": 4
 },
 "nbformat": 4,
 "nbformat_minor": 0
}
