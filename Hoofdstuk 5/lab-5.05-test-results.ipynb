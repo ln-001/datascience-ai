{
 "cells": [
  {
   "cell_type": "markdown",
   "metadata": {
    "id": "RzEWLSEPt30W"
   },
   "source": [
    "# Lab 5.05 - Two-sample t-test"
   ]
  },
  {
   "cell_type": "code",
   "metadata": {
    "id": "QnEzGI2its2h",
    "ExecuteTime": {
     "end_time": "2024-06-01T09:20:06.207098Z",
     "start_time": "2024-06-01T09:20:06.203830Z"
    }
   },
   "source": [
    "# Package imports\n",
    "import numpy as np                                  # \"Scientific computing\"\n",
    "import scipy.stats as stats                         # Statistical tests\n",
    "\n",
    "import pandas as pd                                 # Dataframe\n",
    "import matplotlib.pyplot as plt                     # Basic visualisation\n",
    "from statsmodels.graphics.mosaicplot import mosaic  # Mosaic plot\n",
    "import seaborn as sns                               # Advanced dataviz"
   ],
   "outputs": [],
   "execution_count": 40
  },
  {
   "cell_type": "markdown",
   "metadata": {},
   "source": [
    "## Exercise 5 - Comparing test results between groups\n",
    "\n",
    "A large number of students participated in a test that was organized in several successive sessions. Because creating a separate test for each session was practically unfeasible, the same questions were used in each session. Consequently, there is a danger that students could pass on information about the test to the groups that still had to come after. Later groups then have an advantage over the first. However, this also evident from the test scores?\n",
    "\n",
    "The file `test-results.csv` contains all results of the test. The score is a floating point number with maximum 40. If the score field is empty, this indicates a student that was absent. Each session is identified by a letter, in the order of the consecutive sessions.\n",
    "\n",
    "- Day 1: sessions A, B\n",
    "- Day 2: sessions C, D, E\n",
    "- Day 3: sessions F, G, H\n",
    "\n",
    "Sessions A and B were conducted on a different campus, so it could be assumed that there is little to no communication with students from other sessions.\n",
    "\n",
    "If information was passed on successfully, we expect the scores of later groups to be significantly better than the first.\n",
    "\n",
    "**Note** that the reverse reasoning does not necessarily hold: if it turns out that the result of later sessions is indeed significantly better, this does not necessarily mean that the (only) cause is passing on of information. There may also be other causes (e.g. “weaker” class groups happen to be scheduled earlier).\n",
    "\n",
    "1. Explore the data. Calculate the appropriate measures for central tendency and dispersion for the full dataset and for each session individually.\n",
    "2. Plot a bar graph of the average score per session with error bars denoting one standard deviation.\n",
    "3. Make a box plot of the scores divided per group. Compare the sessions listed below. Do you think there is a significant difference between the results? Can we suspect that information has been passed on?\n",
    "    - A and B\n",
    "    - C, D and E\n",
    "    - F, G and H\n",
    "    - C and H\n",
    "    - A and H\n",
    "4. Use an appropriate statistical test to determine whether the differences between the groups listed above are also *significant*. Can we conclude that the later groups score better or not?"
   ]
  },
  {
   "cell_type": "markdown",
   "metadata": {},
   "source": [
    "### Answers\n",
    "\n",
    "The average score in each session was:\n",
    "\n",
    "| Session | Average score |\n",
    "| :-----: | :------------ |\n",
    "|    A    | 13.1          |\n",
    "|    B    | 17.2          |\n",
    "|    C    | 18.8          |\n",
    "|    D    | 22.5          |\n",
    "|    E    | 18.9          |\n",
    "|    F    | 17.8          |\n",
    "|    G    | 18.7          |\n",
    "|    H    | 20.9          |\n",
    "\n",
    "The table below shows the p-value of a one-sided t-test of two samples between the given sessions:\n",
    "\n",
    "| Alt. hypothesis                       | p-value   |\n",
    "| :------------------------------------ | :-------- |\n",
    "| $\\overline{x}_A - \\overline{x}_B < 0$ | 0.05356   |\n",
    "| $\\overline{x}_C - \\overline{x}_D < 0$ | 0.01343   |\n",
    "| $\\overline{x}_E - \\overline{x}_D < 0$ | 0.02356   |\n",
    "| $\\overline{x}_F - \\overline{x}_H < 0$ | 0.05767   |\n",
    "| $\\overline{x}_G - \\overline{x}_H < 0$ | 0.1156    |\n",
    "| $\\overline{x}_C - \\overline{x}_H < 0$ | 0.1463    |\n",
    "| $\\overline{x}_A - \\overline{x}_H < 0$ | 0.0003289 |\n",
    "\n",
    "Remarks:\n",
    "\n",
    "- The difference between **session A and B**, although it seems quite large, is insignificant for $\\alpha = 0.05$\n",
    "- **Sessions C, D and E**:\n",
    "  - Session D had the highest score. Sessions C and E had similar results, at least the average score was similar.\n",
    "  - Session D has a significantly higher score than either sessions C and E. However, session E came _after_ D, so the cause is definitely not the passing of information.\n",
    "- The differences between **sessions F, G and H** insignificant\n",
    "- **Sessions C and H** are respectively the first and the last session on the same campus. So, if there is an opportunity to pass on information about the test, there's definitely enough time between these two sessions. However, the difference is not significant!\n",
    "- The difference between **sessions A and H** are significant, but since they took place on different campuses, it is questionable that this difference is caused by passing on information."
   ]
  },
  {
   "metadata": {
    "ExecuteTime": {
     "end_time": "2024-06-01T11:16:57.894847Z",
     "start_time": "2024-06-01T11:16:57.821316Z"
    }
   },
   "cell_type": "code",
   "source": [
    "df = pd.read_csv('https://raw.githubusercontent.com/HoGentTIN/dsai-labs/main/data/test-results.csv')\n",
    "df = df.dropna()"
   ],
   "outputs": [],
   "execution_count": 73
  },
  {
   "metadata": {
    "ExecuteTime": {
     "end_time": "2024-06-01T11:17:00.197027Z",
     "start_time": "2024-06-01T11:17:00.173929Z"
    }
   },
   "cell_type": "code",
   "source": [
    "help = df.groupby('Session')['Score'].describe()\n",
    "help.describe()"
   ],
   "outputs": [
    {
     "data": {
      "text/plain": [
       "           count       mean       std        min        25%        50%  \\\n",
       "count   8.000000   8.000000  8.000000   8.000000   8.000000   8.000000   \n",
       "mean   24.375000  18.491697  6.631447   5.937500  13.953125  18.140625   \n",
       "std     4.068608   2.750696  1.467257   4.708939   3.692982   3.337716   \n",
       "min    17.000000  13.117647  4.641670   0.000000   8.000000  12.500000   \n",
       "25%    21.750000  17.664683  5.845511   2.500000  12.156250  16.750000   \n",
       "50%    25.500000  18.768103  6.406985   5.250000  14.375000  18.625000   \n",
       "75%    27.250000  19.375812  7.290923  10.000000  16.406250  19.937500   \n",
       "max    29.000000  22.451923  9.150917  13.000000  19.125000  22.125000   \n",
       "\n",
       "             75%        max  \n",
       "count   8.000000   8.000000  \n",
       "mean   23.031250  31.000000  \n",
       "std     3.242264   2.850439  \n",
       "min    17.000000  26.500000  \n",
       "25%    21.843750  29.812500  \n",
       "50%    22.500000  31.125000  \n",
       "75%    25.937500  32.625000  \n",
       "max    26.625000  34.500000  "
      ],
      "text/html": [
       "<div>\n",
       "<style scoped>\n",
       "    .dataframe tbody tr th:only-of-type {\n",
       "        vertical-align: middle;\n",
       "    }\n",
       "\n",
       "    .dataframe tbody tr th {\n",
       "        vertical-align: top;\n",
       "    }\n",
       "\n",
       "    .dataframe thead th {\n",
       "        text-align: right;\n",
       "    }\n",
       "</style>\n",
       "<table border=\"1\" class=\"dataframe\">\n",
       "  <thead>\n",
       "    <tr style=\"text-align: right;\">\n",
       "      <th></th>\n",
       "      <th>count</th>\n",
       "      <th>mean</th>\n",
       "      <th>std</th>\n",
       "      <th>min</th>\n",
       "      <th>25%</th>\n",
       "      <th>50%</th>\n",
       "      <th>75%</th>\n",
       "      <th>max</th>\n",
       "    </tr>\n",
       "  </thead>\n",
       "  <tbody>\n",
       "    <tr>\n",
       "      <th>count</th>\n",
       "      <td>8.000000</td>\n",
       "      <td>8.000000</td>\n",
       "      <td>8.000000</td>\n",
       "      <td>8.000000</td>\n",
       "      <td>8.000000</td>\n",
       "      <td>8.000000</td>\n",
       "      <td>8.000000</td>\n",
       "      <td>8.000000</td>\n",
       "    </tr>\n",
       "    <tr>\n",
       "      <th>mean</th>\n",
       "      <td>24.375000</td>\n",
       "      <td>18.491697</td>\n",
       "      <td>6.631447</td>\n",
       "      <td>5.937500</td>\n",
       "      <td>13.953125</td>\n",
       "      <td>18.140625</td>\n",
       "      <td>23.031250</td>\n",
       "      <td>31.000000</td>\n",
       "    </tr>\n",
       "    <tr>\n",
       "      <th>std</th>\n",
       "      <td>4.068608</td>\n",
       "      <td>2.750696</td>\n",
       "      <td>1.467257</td>\n",
       "      <td>4.708939</td>\n",
       "      <td>3.692982</td>\n",
       "      <td>3.337716</td>\n",
       "      <td>3.242264</td>\n",
       "      <td>2.850439</td>\n",
       "    </tr>\n",
       "    <tr>\n",
       "      <th>min</th>\n",
       "      <td>17.000000</td>\n",
       "      <td>13.117647</td>\n",
       "      <td>4.641670</td>\n",
       "      <td>0.000000</td>\n",
       "      <td>8.000000</td>\n",
       "      <td>12.500000</td>\n",
       "      <td>17.000000</td>\n",
       "      <td>26.500000</td>\n",
       "    </tr>\n",
       "    <tr>\n",
       "      <th>25%</th>\n",
       "      <td>21.750000</td>\n",
       "      <td>17.664683</td>\n",
       "      <td>5.845511</td>\n",
       "      <td>2.500000</td>\n",
       "      <td>12.156250</td>\n",
       "      <td>16.750000</td>\n",
       "      <td>21.843750</td>\n",
       "      <td>29.812500</td>\n",
       "    </tr>\n",
       "    <tr>\n",
       "      <th>50%</th>\n",
       "      <td>25.500000</td>\n",
       "      <td>18.768103</td>\n",
       "      <td>6.406985</td>\n",
       "      <td>5.250000</td>\n",
       "      <td>14.375000</td>\n",
       "      <td>18.625000</td>\n",
       "      <td>22.500000</td>\n",
       "      <td>31.125000</td>\n",
       "    </tr>\n",
       "    <tr>\n",
       "      <th>75%</th>\n",
       "      <td>27.250000</td>\n",
       "      <td>19.375812</td>\n",
       "      <td>7.290923</td>\n",
       "      <td>10.000000</td>\n",
       "      <td>16.406250</td>\n",
       "      <td>19.937500</td>\n",
       "      <td>25.937500</td>\n",
       "      <td>32.625000</td>\n",
       "    </tr>\n",
       "    <tr>\n",
       "      <th>max</th>\n",
       "      <td>29.000000</td>\n",
       "      <td>22.451923</td>\n",
       "      <td>9.150917</td>\n",
       "      <td>13.000000</td>\n",
       "      <td>19.125000</td>\n",
       "      <td>22.125000</td>\n",
       "      <td>26.625000</td>\n",
       "      <td>34.500000</td>\n",
       "    </tr>\n",
       "  </tbody>\n",
       "</table>\n",
       "</div>"
      ]
     },
     "execution_count": 74,
     "metadata": {},
     "output_type": "execute_result"
    }
   ],
   "execution_count": 74
  },
  {
   "metadata": {
    "ExecuteTime": {
     "end_time": "2024-06-01T11:17:02.132900Z",
     "start_time": "2024-06-01T11:17:02.008844Z"
    }
   },
   "cell_type": "code",
   "source": "sns.boxplot(data=df, x='Score', y='Session', hue='Session')",
   "outputs": [
    {
     "data": {
      "text/plain": [
       "<Axes: xlabel='Score', ylabel='Session'>"
      ]
     },
     "execution_count": 75,
     "metadata": {},
     "output_type": "execute_result"
    },
    {
     "data": {
      "text/plain": [
       "<Figure size 640x480 with 1 Axes>"
      ],
      "image/png": "[encoded data removed]"
     },
     "metadata": {},
     "output_type": "display_data"
    }
   ],
   "execution_count": 75
  },
  {
   "metadata": {},
   "cell_type": "markdown",
   "source": ""
  },
  {
   "metadata": {
    "ExecuteTime": {
     "end_time": "2024-06-01T11:17:05.367667Z",
     "start_time": "2024-06-01T11:17:05.363195Z"
    }
   },
   "cell_type": "code",
   "source": [
    "stats.ttest_ind(a=df[df.Session == 'A']['Score'], \n",
    "                b=df[df.Session == 'F']['Score'], \n",
    "                alternative='less', equal_var=False)"
   ],
   "outputs": [
    {
     "data": {
      "text/plain": [
       "TtestResult(statistic=-2.47421678603158, pvalue=0.009162997959891738, df=35.14161658550542)"
      ]
     },
     "execution_count": 76,
     "metadata": {},
     "output_type": "execute_result"
    }
   ],
   "execution_count": 76
  },
  {
   "metadata": {
    "ExecuteTime": {
     "end_time": "2024-06-01T11:17:07.655624Z",
     "start_time": "2024-06-01T11:17:07.650418Z"
    }
   },
   "cell_type": "code",
   "source": [
    "stats.ttest_ind(a=df[df['Session'] == 'E']['Score'], b=df[df['Session'] == 'F']['Score'], alternative='greater',\n",
    "                equal_var=False)"
   ],
   "outputs": [
    {
     "data": {
      "text/plain": [
       "TtestResult(statistic=0.5399635250504563, pvalue=0.296014468502622, df=42.67539248109647)"
      ]
     },
     "execution_count": 77,
     "metadata": {},
     "output_type": "execute_result"
    }
   ],
   "execution_count": 77
  }
 ],
 "metadata": {
  "colab": {
   "provenance": []
  },
  "kernelspec": {
   "display_name": "Python 3 (ipykernel)",
   "name": "python3",
   "language": "python"
  },
  "language_info": {
   "codemirror_mode": {
    "name": "ipython",
    "version": 3
   },
   "file_extension": ".py",
   "mimetype": "text/x-python",
   "name": "python",
   "nbconvert_exporter": "python",
   "pygments_lexer": "ipython3",
   "version": "3.12.2"
  }
 },
 "nbformat": 4,
 "nbformat_minor": 0
}
