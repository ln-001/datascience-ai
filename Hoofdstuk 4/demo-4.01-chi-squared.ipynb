{
 "cells": [
  {
   "cell_type": "markdown",
   "metadata": {},
   "source": [
    "# Module 4: Bivariate analysis - 2 qualitative variables\n",
    "\n",
    "To demonstrate the concepts in this module, we import dataset `rlanders.csv`. It contains synthetic data that was generated randomly (see [the description](../data/rlanders.md))."
   ]
  },
  {
   "cell_type": "code",
   "metadata": {
    "ExecuteTime": {
     "end_time": "2024-05-30T14:09:44.767629Z",
     "start_time": "2024-05-30T14:09:44.765693Z"
    }
   },
   "source": [
    "# Importing the necessary packages\n",
    "import numpy as np                                  # \"Scientific computing\"\n",
    "import scipy.stats as stats                         # Statistical tests\n",
    "\n",
    "import pandas as pd                                 # Data Frame\n",
    "from pandas.api.types import CategoricalDtype\n",
    "\n",
    "import matplotlib.pyplot as plt                     # Basic visualisation\n",
    "from statsmodels.graphics.mosaicplot import mosaic  # Mosaic diagram\n",
    "import seaborn as sns                               # Advanced data visualisation"
   ],
   "outputs": [],
   "execution_count": 34
  },
  {
   "cell_type": "code",
   "metadata": {
    "ExecuteTime": {
     "end_time": "2024-05-30T14:09:45.187591Z",
     "start_time": "2024-05-30T14:09:44.879868Z"
    }
   },
   "source": [
    "# Read dataset + data preparation\n",
    "rlanders = pd.read_csv('https://raw.githubusercontent.com/HoGentTIN/dsai-en-labs/main/data/rlanders.csv').set_index(['ID'])\n",
    "rlanders.Gender = rlanders.Gender.astype('category')\n",
    "likert_scale = CategoricalDtype(categories=[1,2,3,4,5], ordered=True)\n",
    "rlanders.Survey = rlanders.Survey.astype(likert_scale)\n",
    "# rlanders.info()\n",
    "# rlanders.Survey.dtype"
   ],
   "outputs": [],
   "execution_count": 35
  },
  {
   "cell_type": "markdown",
   "metadata": {},
   "source": [
    "## Contingency tables and visualisation techniques\n",
    "\n",
    "Let's say we want to know whether women and men (variable `Gender`) within the sample have responded differently on a survey question with a Likert scale (variable `Survey`). \n",
    "\n",
    "If the proportions of the answers (1 to 5) for women and men are about the same, we say that there is no association between the two variables. If there is a significant difference, then there is an association. Now, of course, the question is when is the difference large enough to be considered *significant*...\n",
    "\n",
    "A first step is to calculate a contingency table. We immediately add the marginal totals:"
   ]
  },
  {
   "cell_type": "code",
   "metadata": {
    "ExecuteTime": {
     "end_time": "2024-05-30T14:09:45.201961Z",
     "start_time": "2024-05-30T14:09:45.189396Z"
    }
   },
   "source": [
    "pd.crosstab(rlanders.Survey, rlanders.Gender, margins=True)"
   ],
   "outputs": [
    {
     "data": {
      "text/plain": [
       "Gender  Female  Male  All\n",
       "Survey                   \n",
       "1            0     4    4\n",
       "2           17    45   62\n",
       "3           23    91  114\n",
       "4           12    53   65\n",
       "5            0     5    5\n",
       "All         52   198  250"
      ],
      "text/html": [
       "<div>\n",
       "<style scoped>\n",
       "    .dataframe tbody tr th:only-of-type {\n",
       "        vertical-align: middle;\n",
       "    }\n",
       "\n",
       "    .dataframe tbody tr th {\n",
       "        vertical-align: top;\n",
       "    }\n",
       "\n",
       "    .dataframe thead th {\n",
       "        text-align: right;\n",
       "    }\n",
       "</style>\n",
       "<table border=\"1\" class=\"dataframe\">\n",
       "  <thead>\n",
       "    <tr style=\"text-align: right;\">\n",
       "      <th>Gender</th>\n",
       "      <th>Female</th>\n",
       "      <th>Male</th>\n",
       "      <th>All</th>\n",
       "    </tr>\n",
       "    <tr>\n",
       "      <th>Survey</th>\n",
       "      <th></th>\n",
       "      <th></th>\n",
       "      <th></th>\n",
       "    </tr>\n",
       "  </thead>\n",
       "  <tbody>\n",
       "    <tr>\n",
       "      <th>1</th>\n",
       "      <td>0</td>\n",
       "      <td>4</td>\n",
       "      <td>4</td>\n",
       "    </tr>\n",
       "    <tr>\n",
       "      <th>2</th>\n",
       "      <td>17</td>\n",
       "      <td>45</td>\n",
       "      <td>62</td>\n",
       "    </tr>\n",
       "    <tr>\n",
       "      <th>3</th>\n",
       "      <td>23</td>\n",
       "      <td>91</td>\n",
       "      <td>114</td>\n",
       "    </tr>\n",
       "    <tr>\n",
       "      <th>4</th>\n",
       "      <td>12</td>\n",
       "      <td>53</td>\n",
       "      <td>65</td>\n",
       "    </tr>\n",
       "    <tr>\n",
       "      <th>5</th>\n",
       "      <td>0</td>\n",
       "      <td>5</td>\n",
       "      <td>5</td>\n",
       "    </tr>\n",
       "    <tr>\n",
       "      <th>All</th>\n",
       "      <td>52</td>\n",
       "      <td>198</td>\n",
       "      <td>250</td>\n",
       "    </tr>\n",
       "  </tbody>\n",
       "</table>\n",
       "</div>"
      ]
     },
     "execution_count": 36,
     "metadata": {},
     "output_type": "execute_result"
    }
   ],
   "execution_count": 36
  },
  {
   "attachments": {},
   "cell_type": "markdown",
   "metadata": {},
   "source": [
    "### Clustered bar chart\n",
    "\n",
    "Of course, such a table does not say much. Perhaps we should visualise the data."
   ]
  },
  {
   "cell_type": "code",
   "metadata": {
    "ExecuteTime": {
     "end_time": "2024-05-30T14:09:45.345973Z",
     "start_time": "2024-05-30T14:09:45.202762Z"
    }
   },
   "source": [
    "sns.catplot(data=rlanders, x='Survey', hue='Gender', kind='count');"
   ],
   "outputs": [
    {
     "data": {
      "text/plain": [
       "<Figure size 596.25x500 with 1 Axes>"
      ],
      "image/png": "[encoded data removed]"
     },
     "metadata": {},
     "output_type": "display_data"
    }
   ],
   "execution_count": 37
  },
  {
   "attachments": {},
   "cell_type": "markdown",
   "metadata": {},
   "source": [
    "If the \"shape\" of the bars for both categories is similar, we can conclude that both categories have a similar distribution, or that there is no association between the two variables. If the shape were different (e.g. highest peak for men at 2 and for women at 4), that would indicate that there actually is an association, or that men and women give significantly different answers to the survey question.\n",
    "\n",
    "In this case, what is striking is that the women did not give the extreme answers (1 or 5). However, there are considerably fewer women in the sample, so that may be just a coincidence, not necessarily a significant pattern.\n",
    "\n",
    "### Stacked bar chart\n",
    "\n",
    "Another way to visualize the data is by stacking the bars instead of clustering them. Unfortunately, Seaborn doesn't provide us with a convenient method to do so. However, a crosstab object (actually a Pandas DataFrame) has a plot method that we can use. Remark that we swapped the variables when calling the crosstab function."
   ]
  },
  {
   "cell_type": "code",
   "metadata": {
    "ExecuteTime": {
     "end_time": "2024-05-30T14:09:45.455267Z",
     "start_time": "2024-05-30T14:09:45.347632Z"
    }
   },
   "source": [
    "# Contingency table without the margins\n",
    "observed = pd.crosstab(rlanders.Gender, rlanders.Survey)\n",
    "\n",
    "# Horizontally oriented stacked bar chart\n",
    "observed.plot(kind='barh', stacked=True);"
   ],
   "outputs": [
    {
     "data": {
      "text/plain": [
       "<Figure size 640x480 with 1 Axes>"
      ],
      "image/png": "[encoded data removed]"
     },
     "metadata": {},
     "output_type": "display_data"
    }
   ],
   "execution_count": 38
  },
  {
   "attachments": {},
   "cell_type": "markdown",
   "metadata": {},
   "source": [
    "We want to compare the proportions within each category (Male, Female) that replied to the survey question. In data sets with large differences in the number of observations for each category, this representation is still difficult to interpret. By looking at the *relative* frequencies (i.e. percentages), we may get a better result:"
   ]
  },
  {
   "cell_type": "code",
   "metadata": {
    "ExecuteTime": {
     "end_time": "2024-05-30T14:09:45.577508Z",
     "start_time": "2024-05-30T14:09:45.456713Z"
    }
   },
   "source": [
    "# Contingency table without the margins\n",
    "observed_p = pd.crosstab(rlanders.Gender, rlanders.Survey, normalize='index')\n",
    "\n",
    "# Horizontally oriented stacked bar chart\n",
    "observed_p.plot(kind='barh', stacked=True);"
   ],
   "outputs": [
    {
     "data": {
      "text/plain": [
       "<Figure size 640x480 with 1 Axes>"
      ],
      "image/png": "[encoded data removed]"
     },
     "metadata": {},
     "output_type": "display_data"
    }
   ],
   "execution_count": 39
  },
  {
   "attachments": {},
   "cell_type": "markdown",
   "metadata": {},
   "source": [
    "We can see that there are some differences between the proportions, e.g. the percentage of women answering \"2\" (orange) seems larger than the men. Whether this is a significant difference remains to be seen (see below for further analysis of this case).\n",
    "\n",
    "In this representation we lose the information about the number of men and women in the sample. Specifically, we don't see that there are much less women. A mosaic diagram solves this problem.\n",
    "\n",
    "### Mosaic diagram\n",
    "A mosaic diagram is a graphical representation of the crosstab where each cell is represented by a tile whose area is proportional to the frequency of that cell with respect to the total number of observations.\n",
    "\n",
    "You can compare this a bit with how [WinDirStat](https://windirstat.net/) visualises the size of files on your hard disk.\n",
    "\n",
    "For this case:"
   ]
  },
  {
   "cell_type": "code",
   "metadata": {
    "ExecuteTime": {
     "end_time": "2024-05-30T14:09:45.695085Z",
     "start_time": "2024-05-30T14:09:45.579260Z"
    }
   },
   "source": [
    "import matplotlib as mpl\n",
    "\n",
    "# By default, mosaic() will color all columns the same. Here,\n",
    "# we're going to give a separate color to each response (1-5).\n",
    "# The response is kept in the label of each cell, a tuple of\n",
    "# the two values that are represented in that cell (e.g. \n",
    "# ('Female', '2')). We will be using the \"plasma\" color map\n",
    "# in this example.\n",
    "plasma_colors = mpl.colormaps['plasma']\n",
    "# Create a function that maps the cell key to the color we\n",
    "# want to give it. We use the colormap function created above\n",
    "# and give it a number between 0 and 1. We convert the second\n",
    "# part of the key (values '1' to '5') to a number and divide\n",
    "# by 5.\n",
    "props = lambda key: {'color': plasma_colors(int(key[1])/5)}\n",
    "\n",
    "mos_gender_survey = mosaic(\n",
    "       data=rlanders.sort_values(by=['Survey']),\n",
    "       index=['Gender', 'Survey'],\n",
    "       gap=0.05, properties=props);"
   ],
   "outputs": [
    {
     "data": {
      "text/plain": [
       "<Figure size 640x480 with 3 Axes>"
      ],
      "image/png": "[encoded data removed]"
     },
     "metadata": {},
     "output_type": "display_data"
    }
   ],
   "execution_count": 40
  },
  {
   "cell_type": "markdown",
   "metadata": {},
   "source": [
    "We can clearly see here that there are more men in the sample (wider tiles).\n",
    "\n",
    "You can also compare the distributions of the answers given to the survey question. Except for the fact that the women did not give extreme answers (1 and 5), at first sight, the distributions still seem to match quite well."
   ]
  },
  {
   "cell_type": "markdown",
   "metadata": {},
   "source": [
    "## Chi-squared and Cramér's V\n",
    "\n",
    "Chi-squared ($\\chi^2$) and Cramér's V are statistics that can help us to determine whether there is an association between two qualitative (categorical) variables.\n",
    "\n",
    "The reasoning goes as follows: if there is no association between `Gender` and `Survey`, then we expect the proportions of the values of `Survey` to be the same for all values of `Gender`. In other words, for both women and men, the same percentage of respondents will give the same answer to the question."
   ]
  },
  {
   "cell_type": "code",
   "metadata": {
    "ExecuteTime": {
     "end_time": "2024-05-30T14:09:45.707671Z",
     "start_time": "2024-05-30T14:09:45.696879Z"
    }
   },
   "source": [
    "observed = pd.crosstab(rlanders.Survey, rlanders.Gender)\n",
    "row_sums = observed.sum(axis=1)\n",
    "col_sums = observed.sum()\n",
    "n = row_sums.sum()\n",
    "\n",
    "print(row_sums)\n",
    "print(col_sums)\n",
    "print(f'Number of observations: {n}')"
   ],
   "outputs": [
    {
     "name": "stdout",
     "output_type": "stream",
     "text": [
      "Survey\n",
      "1      4\n",
      "2     62\n",
      "3    114\n",
      "4     65\n",
      "5      5\n",
      "dtype: int64\n",
      "Gender\n",
      "Female     52\n",
      "Male      198\n",
      "dtype: int64\n",
      "Number of observations: 250\n"
     ]
    }
   ],
   "execution_count": 41
  },
  {
   "cell_type": "markdown",
   "metadata": {},
   "source": [
    "Now we can calculate how often we can expect each combination of `Gender` and `Survey` to occur in the sample. For example, 114 out of 250 respondents answered \"3\", i.e. 114/250 = 0.456 (or 46.6%). Then we know that both 46.6% of the women and 46.6% of the men must have answered \"3\". Since there were 52 female respondents, we expect that 52 x 0.456 = 23.712 have answered \"3\". In reality, there were 23. For the men, we expect 198 x 0.456 = 90.288 (compared to 91 in reality).\n",
    "\n",
    "We can generalise this principle to any cell in the table: $\\frac{row total \\times column total}{n}$ (with $n$ the total number of observations).\n",
    "\n",
    "The expected values can be calculated using the `outer()` function:"
   ]
  },
  {
   "cell_type": "code",
   "metadata": {
    "ExecuteTime": {
     "end_time": "2024-05-30T14:09:45.714501Z",
     "start_time": "2024-05-30T14:09:45.709202Z"
    }
   },
   "source": [
    "expected = np.outer(row_sums, col_sums) / n\n",
    "expected"
   ],
   "outputs": [
    {
     "data": {
      "text/plain": [
       "array([[ 0.832,  3.168],\n",
       "       [12.896, 49.104],\n",
       "       [23.712, 90.288],\n",
       "       [13.52 , 51.48 ],\n",
       "       [ 1.04 ,  3.96 ]])"
      ]
     },
     "execution_count": 42,
     "metadata": {},
     "output_type": "execute_result"
    }
   ],
   "execution_count": 42
  },
  {
   "cell_type": "markdown",
   "metadata": {},
   "source": [
    "Let's check if the marginal totals are still correct:"
   ]
  },
  {
   "cell_type": "code",
   "metadata": {
    "ExecuteTime": {
     "end_time": "2024-05-30T14:09:45.721130Z",
     "start_time": "2024-05-30T14:09:45.716120Z"
    }
   },
   "source": [
    "exp_row_sums = np.sum(expected, axis=1)\n",
    "exp_col_sums = np.sum(expected, axis=0)\n",
    "\n",
    "print(f'Row totals   : {exp_row_sums}')\n",
    "print(f'Column totals: {exp_col_sums}')\n",
    "print(f'Observations : {exp_col_sums.sum()}')"
   ],
   "outputs": [
    {
     "name": "stdout",
     "output_type": "stream",
     "text": [
      "Row totals   : [  4.  62. 114.  65.   5.]\n",
      "Column totals: [ 52. 198.]\n",
      "Observations : 250.0\n"
     ]
    }
   ],
   "execution_count": 43
  },
  {
   "cell_type": "markdown",
   "metadata": {},
   "source": [
    "Indeed, they do. Now, what's the difference between the expected and observed values?"
   ]
  },
  {
   "cell_type": "code",
   "metadata": {
    "ExecuteTime": {
     "end_time": "2024-05-30T14:09:45.734676Z",
     "start_time": "2024-05-30T14:09:45.727616Z"
    }
   },
   "source": [
    "expected - observed"
   ],
   "outputs": [
    {
     "data": {
      "text/plain": [
       "Gender  Female   Male\n",
       "Survey               \n",
       "1        0.832 -0.832\n",
       "2       -4.104  4.104\n",
       "3        0.712 -0.712\n",
       "4        1.520 -1.520\n",
       "5        1.040 -1.040"
      ],
      "text/html": [
       "<div>\n",
       "<style scoped>\n",
       "    .dataframe tbody tr th:only-of-type {\n",
       "        vertical-align: middle;\n",
       "    }\n",
       "\n",
       "    .dataframe tbody tr th {\n",
       "        vertical-align: top;\n",
       "    }\n",
       "\n",
       "    .dataframe thead th {\n",
       "        text-align: right;\n",
       "    }\n",
       "</style>\n",
       "<table border=\"1\" class=\"dataframe\">\n",
       "  <thead>\n",
       "    <tr style=\"text-align: right;\">\n",
       "      <th>Gender</th>\n",
       "      <th>Female</th>\n",
       "      <th>Male</th>\n",
       "    </tr>\n",
       "    <tr>\n",
       "      <th>Survey</th>\n",
       "      <th></th>\n",
       "      <th></th>\n",
       "    </tr>\n",
       "  </thead>\n",
       "  <tbody>\n",
       "    <tr>\n",
       "      <th>1</th>\n",
       "      <td>0.832</td>\n",
       "      <td>-0.832</td>\n",
       "    </tr>\n",
       "    <tr>\n",
       "      <th>2</th>\n",
       "      <td>-4.104</td>\n",
       "      <td>4.104</td>\n",
       "    </tr>\n",
       "    <tr>\n",
       "      <th>3</th>\n",
       "      <td>0.712</td>\n",
       "      <td>-0.712</td>\n",
       "    </tr>\n",
       "    <tr>\n",
       "      <th>4</th>\n",
       "      <td>1.520</td>\n",
       "      <td>-1.520</td>\n",
       "    </tr>\n",
       "    <tr>\n",
       "      <th>5</th>\n",
       "      <td>1.040</td>\n",
       "      <td>-1.040</td>\n",
       "    </tr>\n",
       "  </tbody>\n",
       "</table>\n",
       "</div>"
      ]
     },
     "execution_count": 44,
     "metadata": {},
     "output_type": "execute_result"
    }
   ],
   "execution_count": 44
  },
  {
   "cell_type": "markdown",
   "metadata": {},
   "source": [
    "Some observed values seem to be close to the expected ones (e.g. for \"3\"), others are further away (e.g. \"2\"). However, we must also see the differences in proportion.\n",
    "\n",
    "A measure for determining the total deviation in a frequency table is to square the differences between expected and observed values (just as one does with variance/standard deviation) and divide by the expected value:"
   ]
  },
  {
   "cell_type": "code",
   "metadata": {
    "ExecuteTime": {
     "end_time": "2024-05-30T14:09:45.740173Z",
     "start_time": "2024-05-30T14:09:45.736317Z"
    }
   },
   "source": [
    "diffs = (expected - observed)**2 / expected\n",
    "print(diffs)"
   ],
   "outputs": [
    {
     "name": "stdout",
     "output_type": "stream",
     "text": [
      "Gender    Female      Male\n",
      "Survey                    \n",
      "1       0.832000  0.218505\n",
      "2       1.306050  0.343003\n",
      "3       0.021379  0.005615\n",
      "4       0.170888  0.044880\n",
      "5       1.040000  0.273131\n"
     ]
    }
   ],
   "execution_count": 45
  },
  {
   "cell_type": "markdown",
   "metadata": {},
   "source": [
    "The sum of all these values is called $\\chi^2$ (\"chi-squared\"):\n",
    "\n",
    "$\\chi^2 = \\sum_i \\frac{(o_i - e_i)^2}{e_i}$\n",
    "\n",
    "with $o_i$ the number of observations in the $i$'th cell of the contingencytable and $e_i$ the expected frequency. Compare the formula with the code above to find similarities!"
   ]
  },
  {
   "cell_type": "code",
   "metadata": {
    "ExecuteTime": {
     "end_time": "2024-05-30T14:09:45.746270Z",
     "start_time": "2024-05-30T14:09:45.742211Z"
    }
   },
   "source": [
    "chi_squared = diffs.values.sum()\n",
    "print('χ² ≈ %.3f' %chi_squared)"
   ],
   "outputs": [
    {
     "name": "stdout",
     "output_type": "stream",
     "text": [
      "χ² ≈ 4.255\n"
     ]
    }
   ],
   "execution_count": 46
  },
  {
   "cell_type": "markdown",
   "metadata": {},
   "source": [
    "Now, this value in itself still does not say very much. Under what conditions do we say that there is or isn't an association between the two variables? That will also depend on the size of the table and the total number of observations. In a contingency table with more rows/columns, you will need a larger $\\chi^2$ before you can conclude that there is an association.\n",
    "\n",
    "[Cramér's V](https://en.wikipedia.org/wiki/Cram%C3%A9r%27s_V) is a formula that normalises $\\chi^2$ to a value between 0 and 1 that is independent of the table size.\n",
    "\n",
    "$V = \\sqrt{\\frac{\\chi^2}{n(k-1)}}$"
   ]
  },
  {
   "cell_type": "code",
   "metadata": {
    "ExecuteTime": {
     "end_time": "2024-05-30T14:09:45.791419Z",
     "start_time": "2024-05-30T14:09:45.748833Z"
    }
   },
   "source": [
    "dof = min(observed.shape) - 1\n",
    "cramers_v = np.sqrt(chi_squared / (dof * n))\n",
    "print(cramers_v)"
   ],
   "outputs": [
    {
     "name": "stdout",
     "output_type": "stream",
     "text": [
      "0.13046762087242633\n"
     ]
    }
   ],
   "execution_count": 47
  },
  {
   "cell_type": "markdown",
   "metadata": {},
   "source": [
    "The value of Cramér's $V$ can also be calculated with the following Python function (from the `scipy.stats` module):"
   ]
  },
  {
   "cell_type": "code",
   "metadata": {
    "ExecuteTime": {
     "end_time": "2024-05-30T14:09:45.799307Z",
     "start_time": "2024-05-30T14:09:45.793492Z"
    }
   },
   "source": [
    "stats.contingency.association(observed, method='cramer')"
   ],
   "outputs": [
    {
     "data": {
      "text/plain": [
       "0.13046762087242636"
      ]
     },
     "execution_count": 48,
     "metadata": {},
     "output_type": "execute_result"
    }
   ],
   "execution_count": 48
  },
  {
   "cell_type": "markdown",
   "metadata": {},
   "source": [
    "To draw a conclusion from this figure, compare it with the values in the table below:\n",
    "\n",
    "| Cramér's V | Interpretation          |\n",
    "| :---:      | :---                    |\n",
    "| 0          | No association          |\n",
    "| 0.1        | Weak association        |\n",
    "| 0.25       | Moderate association    |\n",
    "| 0.50       | Strong association      |\n",
    "| 0.75       | Very strong association |\n",
    "| 1          | Complete association    |\n",
    "\n",
    "So our result for Cramér's V indicates a fairly weak association. Note that Cramér's V is known to be too optimistic about the association between two variables in certain cases. There is a modified formula for eliminating this bias, but it is beyond the scope of this course.\n",
    "\n",
    "There is, however, another way to determine whether the chi-square is large enough to conclude that there is a relationship, namely by means of a statistical test.\n",
    "\n",
    "## The chi-squared test for independence\n",
    "\n",
    "To answer the question of when the value of chi-square is sufficient to assume an association between two variables, we can use the *chi-square independence test*.\n",
    "\n",
    "### The chi-squared distribution\n",
    "\n",
    "The value of $\\chi^2$ follows a specific stochastic distribution that is called the $\\chi^2$-distribution. Just like with the Student-t distribution, the shape of the probability density function depends on the degrees of freedom, which in this context is $df = (r-1)\\times(k-1)$ (with $r$ the number of rows in the contingency table and $k$ the number of columns).\n",
    "\n",
    "The code below plots the probability density function of the $\\chi^2$-distribution for a number of degrees of freedom:"
   ]
  },
  {
   "cell_type": "code",
   "metadata": {
    "ExecuteTime": {
     "end_time": "2024-05-30T14:09:45.954097Z",
     "start_time": "2024-05-30T14:09:45.800810Z"
    }
   },
   "source": [
    "# Plot of the chi-squared distribution for different degrees of freedom\n",
    "x = np.linspace(0, 10, num=100)\n",
    "fig, tplot = plt.subplots(1, 1);\n",
    "tplot.set_ylim([0, 0.8]);\n",
    "tplot.plot(x, stats.chi2.pdf(x, 1), label=\"df=1\");\n",
    "tplot.plot(x, stats.chi2.pdf(x, 2), label=\"df=2\");\n",
    "tplot.plot(x, stats.chi2.pdf(x, 3), label=\"df=3\");\n",
    "tplot.plot(x, stats.chi2.pdf(x, 5), label=\"df=5\");\n",
    "tplot.plot(x, stats.chi2.pdf(x, 10), label=\"df=10\");\n",
    "tplot.legend(loc='best');"
   ],
   "outputs": [
    {
     "data": {
      "text/plain": [
       "<Figure size 640x480 with 1 Axes>"
      ],
      "image/png": "[encoded data removed]"
     },
     "metadata": {},
     "output_type": "display_data"
    }
   ],
   "execution_count": 49
  },
  {
   "cell_type": "markdown",
   "metadata": {},
   "source": [
    "Using this figure, you can follow a reasoning similar to a right-sided z-test. You can calculate a critical value $g$ for which the area under the curve to the right of $g$ is equal to our chosen significance level $\\alpha$. If the test statistic $\\chi^2$ is greater than $g$, we say that the deviations from the expected values in the contingency table are too large to be coincidental and that we have reason to believe that there is an association between the two variables.\n",
    "\n",
    "You can also calculate the excess probability $p$, i.e. the probability that the deviations you see in the sample could be due to random sampling errors. To do this, you calculate the area under the density curve to the right of $p$. If this area is smaller than $\\alpha$, we also say that the deviations are too large to be caused by random sampling errors and that there is therefore an association between the variables.\n",
    "\n",
    "In Python, we use the following Scipy functions for this purpose:\n",
    "\n",
    "- `stats.chi2.sf(x)` - the right tail probability of `x` (or survival function)\n",
    "- `stats.chi2.isf(q)` - the inverse function of `sf(x)`, i.e. calculate a number `x` for which the right tail probability is exactly `q`.\n",
    "\n",
    "A plot for the case where $\\alpha = 0.05$ (an often chosen value for the significance level) and 4 degrees of freedom:"
   ]
  },
  {
   "cell_type": "code",
   "metadata": {
    "ExecuteTime": {
     "end_time": "2024-05-30T14:09:46.128024Z",
     "start_time": "2024-05-30T14:09:45.956620Z"
    }
   },
   "source": [
    "# Right tail probability in the chi-squared distribution\n",
    "\n",
    "# x-values:\n",
    "x = np.linspace(0, 15, num=100)\n",
    "# probability density of the chi-squared distribution with 4 degrees of freedom\n",
    "y = stats.chi2.pdf(x, df=4)\n",
    "# the number q for which the right tail probability is exactly 5%:\n",
    "q = stats.chi2.isf(.05, df=4)\n",
    "\n",
    "fig, tplot = plt.subplots(1, 1)\n",
    "tplot.plot(x, y)                      # probability density\n",
    "tplot.fill_between(x, y, where=x>=q,  # critical area\n",
    "    color='lightblue')\n",
    "tplot.axvline(q);                     # critical value"
   ],
   "outputs": [
    {
     "data": {
      "text/plain": [
       "<Figure size 640x480 with 1 Axes>"
      ],
      "image/png": "[encoded data removed]"
     },
     "metadata": {},
     "output_type": "display_data"
    }
   ],
   "execution_count": 50
  },
  {
   "cell_type": "markdown",
   "metadata": {},
   "source": [
    "### Test procedure\n",
    "\n",
    "Formally, the procedure of the $\\chi^2$ test for independence runs as follows:\n",
    "\n",
    "1. Formulate the hypotheses:\n",
    "   - $H_0$: There is no association between the variables (the differences between observed and expected values are small)\n",
    "   - $H_1$: There is an association between the variables (the differences are large)\n",
    "2. Choose significance level $\\alpha$\n",
    "3. Calculate the value of the test statistic in the sample (here: $\\chi^2$).\n",
    "4. Use one of the following methods (based on the degrees of freedom $df = (r-1) \\times (k-1)$):\n",
    "   1. Determine critical value $g$ so $P(\\chi^2 > g) = \\alpha$\n",
    "   2. Calculate the $p$-value\n",
    "5. Draw a conclusion based on the outcome:\n",
    "   1. $\\chi^2 < g$: do not reject $H_0$; $\\chi^2 > g$: reject $H_0$\n",
    "   2. $p > \\alpha$: do not reject $H_0$; $p < \\alpha$: reject $H_0$\n",
    "\n",
    "In Python, we can calculate this as follows:"
   ]
  },
  {
   "cell_type": "code",
   "metadata": {
    "ExecuteTime": {
     "end_time": "2024-05-30T14:09:46.132254Z",
     "start_time": "2024-05-30T14:09:46.129403Z"
    }
   },
   "source": [
    "alpha = .05\n",
    "dimensions = observed.shape\n",
    "dof = (dimensions[0]-1) * (dimensions[1]-1)\n",
    "\n",
    "print(\"Chi-squared        : %.4f\" % chi_squared)\n",
    "print(\"Degrees of freedom : %d\" % dof)\n",
    "\n",
    "# Calculate critical value\n",
    "g = stats.chi2.isf(alpha, df = dof)\n",
    "print(\"Critical value     : %.4f\" % g)\n",
    "\n",
    "# Calculate p-value\n",
    "p = stats.chi2.sf(chi_squared, df=dof)\n",
    "print(\"p-value            : %.4f\" % p)"
   ],
   "outputs": [
    {
     "name": "stdout",
     "output_type": "stream",
     "text": [
      "Chi-squared        : 4.2555\n",
      "Degrees of freedom : 4\n",
      "Critical value     : 9.4877\n",
      "p-value            : 0.3725\n"
     ]
    }
   ],
   "execution_count": 51
  },
  {
   "cell_type": "markdown",
   "metadata": {},
   "source": [
    "Actually, we do not need to memorise these formulas to determine chi-square, the critical value and the p-value. SciPy already has a function that allows us to calculate the chi-square and p-value directly from a contingency table:"
   ]
  },
  {
   "cell_type": "code",
   "metadata": {
    "ExecuteTime": {
     "end_time": "2024-05-30T14:09:46.140055Z",
     "start_time": "2024-05-30T14:09:46.133294Z"
    }
   },
   "source": [
    "# Chi-squared test for independence based on a contingency table\n",
    "observed = pd.crosstab(rlanders.Survey, rlanders.Gender)\n",
    "chi2, p, df, expected = stats.chi2_contingency(observed)\n",
    "\n",
    "print(\"Chi-squared       : %.4f\" % chi2)\n",
    "print(\"Degrees of freedom: %d\" % df)\n",
    "print(\"P-value           : %.4f\" % p)"
   ],
   "outputs": [
    {
     "name": "stdout",
     "output_type": "stream",
     "text": [
      "Chi-squared       : 4.2555\n",
      "Degrees of freedom: 4\n",
      "P-value           : 0.3725\n"
     ]
    }
   ],
   "execution_count": 52
  },
  {
   "cell_type": "markdown",
   "metadata": {},
   "source": [
    "As you can see, the outcome for the $p$-value is the same as in our worked out calculations!\n",
    "\n",
    "A graphical representation of our case:"
   ]
  },
  {
   "cell_type": "code",
   "metadata": {
    "ExecuteTime": {
     "end_time": "2024-05-30T14:09:46.239533Z",
     "start_time": "2024-05-30T14:09:46.141234Z"
    }
   },
   "source": [
    "# Is there an association between Gender and Survey?\n",
    "\n",
    "# x-values:\n",
    "x = np.linspace(0, 15, num=100)\n",
    "# probability density of the chi-squared distribution with 4 degrees of freedom\n",
    "y = stats.chi2.pdf(x, df=dof)\n",
    "# the number q for which the right tail probability is exactly 5%:\n",
    "q = stats.chi2.isf(alpha, df=4)  # TODO: CHECK this!\n",
    "\n",
    "fig, tplot = plt.subplots(1, 1)\n",
    "tplot.plot(x, y)                     # probability density\n",
    "tplot.fill_between(x, y, where=x>=q, # critical area\n",
    "    color='lightblue')\n",
    "tplot.axvline(q)                     # critical value\n",
    "tplot.axvline(chi2, color='orange')  # chi-squared"
   ],
   "outputs": [
    {
     "data": {
      "text/plain": [
       "<matplotlib.lines.Line2D at 0x17f29e990>"
      ]
     },
     "execution_count": 53,
     "metadata": {},
     "output_type": "execute_result"
    },
    {
     "data": {
      "text/plain": [
       "<Figure size 640x480 with 1 Axes>"
      ],
      "image/png": "[encoded data removed]"
     },
     "metadata": {},
     "output_type": "display_data"
    }
   ],
   "execution_count": 53
  },
  {
   "cell_type": "markdown",
   "metadata": {},
   "source": [
    "We see that $\\chi^2$ is well within the region of acceptance. The $p$-value is also greater than $\\alpha$. Consequently, we cannot reject the null hypothesis and conclude that, based on this sample, there is no reason to believe that there is a significant difference between women's and men's answers to the survey question.\n",
    "\n",
    "## Goodness-of-fit test\n",
    "\n",
    "Suppose that in a sample of superheroes we keep track of what type they are and that we also know how often each type occurs in the entire population (as a percentage). Given below are the absolute frequencies in the sample $o_i$ and the expected relative frequencies $\\pi_i$ in the population:"
   ]
  },
  {
   "cell_type": "code",
   "metadata": {
    "ExecuteTime": {
     "end_time": "2024-05-30T14:09:46.243196Z",
     "start_time": "2024-05-30T14:09:46.240559Z"
    }
   },
   "source": [
    "types =               ['mutant', 'human', 'alien', 'god', 'demon']\n",
    "observed =   np.array([   127,      75,      98,     27,     73])\n",
    "expected_p = np.array([   .35,     .17,     .23,    .08,    .17])"
   ],
   "outputs": [],
   "execution_count": 54
  },
  {
   "cell_type": "markdown",
   "metadata": {},
   "source": [
    "The question now is: is this sample representative of the population? Does each type occur in the sample in proportion to the expected percentage in the population as a whole?\n",
    "\n",
    "### Test procedure\n",
    "\n",
    "To answer these kinds of questions, a goodness-of-fit test is suitable. The procedure is as follows:\n",
    "\n",
    "1. Formulate the hypotheses:\n",
    "   - $H_0$: The sample is representative of the population, i.e. the frequency of each class within the sample corresponds well to that in the population.\n",
    "   - $H_1$: The sample is *not* representative of the population, i.e. the differences with the expected frequencies are too large.\n",
    "2. Choose significance level $\\alpha$\n",
    "3. Calculate the value of the test statistic in the sample (here: $\\chi^2$).\n",
    "4. Use one of the following methods (based on the degrees of freedom $df = (k-1)$ with $k$ the number of categories in the sample):\n",
    "   1. Determine critical value $g$ so $P(\\chi^2 > g) = \\alpha$\n",
    "   2. Calculate the $p$-value\n",
    "5. Draw a conclusion based on the outcome:\n",
    "   1. $\\chi^2 < g$: do not reject $H_0$; $\\chi^2 > g$: reject $H_0$\n",
    "   2. $p > \\alpha$: do not reject $H_0$; $p < \\alpha$: reject $H_0$\n",
    "\n",
    "A plot of this case, including the calculation of $p$ and $g$:"
   ]
  },
  {
   "cell_type": "code",
   "metadata": {
    "ExecuteTime": {
     "end_time": "2024-05-30T14:09:46.248436Z",
     "start_time": "2024-05-30T14:09:46.244279Z"
    }
   },
   "source": [
    "alpha = 0.05               # Significance level\n",
    "n = sum(observed)          # Sample size\n",
    "k = len(observed)          # Number of categories\n",
    "dof = k - 1                # Degrees of freedom\n",
    "expected = expected_p * n  # Expected absolute frequencies in the sample\n",
    "g = stats.chi2.isf(alpha, df=dof)  # Critical value\n",
    "\n",
    "# Goodness-of-fit-test in Python:\n",
    "chi2, p = stats.chisquare(f_obs=observed, f_exp=expected)\n",
    "\n",
    "print(\"Significance level  ⍺ = %.2f\" % alpha)\n",
    "print(\"Sample size         n = %d\" % n)\n",
    "print(\"k = %d; df = %d\" % (k, dof))\n",
    "print(\"Chi-squared        χ² = %.4f\" % chi2)\n",
    "print(\"Critical value      g = %.4f\" % g)\n",
    "print(\"p-value             p = %.4f\" % p)"
   ],
   "outputs": [
    {
     "name": "stdout",
     "output_type": "stream",
     "text": [
      "Significance level  ⍺ = 0.05\n",
      "Sample size         n = 400\n",
      "k = 5; df = 4\n",
      "Chi-squared        χ² = 3.4679\n",
      "Critical value      g = 9.4877\n",
      "p-value             p = 0.4828\n"
     ]
    }
   ],
   "execution_count": 55
  },
  {
   "cell_type": "code",
   "metadata": {
    "ExecuteTime": {
     "end_time": "2024-05-30T14:09:46.341239Z",
     "start_time": "2024-05-30T14:09:46.249761Z"
    }
   },
   "source": [
    "# Plot of the case:\n",
    "# x-values:\n",
    "x = np.linspace(0, 15, num=100)\n",
    "# probability density of the chi-squared distribution with 4 degrees of freedom\n",
    "y = stats.chi2.pdf(x, df=dof)\n",
    "# the number q for which the right tail probability is exactly 5%:\n",
    "q = stats.chi2.isf(alpha, df=dof)\n",
    "\n",
    "fig, tplot = plt.subplots(1, 1)\n",
    "tplot.plot(x, y)                     # probability density\n",
    "tplot.fill_between(x, y, where=x>=q, # critical area\n",
    "    color='lightblue')\n",
    "tplot.axvline(q)                     # critical value\n",
    "tplot.axvline(chi2, color='orange'); # chi-squared"
   ],
   "outputs": [
    {
     "data": {
      "text/plain": [
       "<Figure size 640x480 with 1 Axes>"
      ],
      "image/png": "[encoded data removed]"
     },
     "metadata": {},
     "output_type": "display_data"
    }
   ],
   "execution_count": 56
  },
  {
   "cell_type": "markdown",
   "metadata": {},
   "source": [
    "We can see that $\\chi^2$ in the sample is left of the critical value, so within the area of acceptance. Therefore, we cannot reject the null hypothesis and conclude that the sample is representative for the population, at least w.r.t. the types of superheroes.\n",
    "\n",
    "## Standardised residuals\n",
    "\n",
    "After performing a chi-squared test, it is often also interesting to know in which categories the largest deviations occur. You could look at the value $\\frac{(o-e)^2}{e}$ for each cell in the contingency table (or vector), which is used in the calculation of $\\chi^2$. However, from this you cannot tell to what extent the deviations can really be considered \"extreme\". For this we use so-called *standardised residuals*.\n",
    "\n",
    "We introduce this concept by means of an example:\n",
    "\n",
    "Suppose that a certain study looks at families with 5 children. A sample of 1022 families is taken, and they are divided into categories according to the number of boys in the family. The frequencies are given below in a Pandas DataFrame that we will create manually and systematically extend."
   ]
  },
  {
   "cell_type": "code",
   "metadata": {
    "ExecuteTime": {
     "end_time": "2024-05-30T14:09:46.345758Z",
     "start_time": "2024-05-30T14:09:46.342528Z"
    }
   },
   "source": [
    "# Data frame with 2 columns:\n",
    "#  - number of boys in the family (index)\n",
    "#  - number of families in the sample with that number of boys\n",
    "families = pd.DataFrame(\n",
    "    np.array(\n",
    "        [[0,  58],\n",
    "         [1, 149],\n",
    "         [2, 305],\n",
    "         [3, 303],\n",
    "         [4, 162],\n",
    "         [5,  45]]),\n",
    "    columns=['num_boys', \"observed\"])\n",
    "families.set_index(['num_boys'])\n",
    "n = families.observed.sum() # sample size"
   ],
   "outputs": [],
   "execution_count": 57
  },
  {
   "cell_type": "markdown",
   "metadata": {},
   "source": [
    "Now what is the expected number of families with the given number of boys? Let's assume that the probability of conceiving boys or girls is equally large, i.e. 0.5. In that case, we can calculate the expected relative frequencies with this formula:\n",
    "\n",
    "$\\pi_i = (0.5)^i (1-0.5)^{5-i} \\binom{5}{i}$\n",
    "\n",
    "Why that is the case is not relevant for the subject at hand and is beyond the scope of this course.\n",
    "\n",
    "The expected absolute frequencies in the sample can then be calculated as $e_i = n \\pi_i$.\n",
    "\n",
    "We apply this to our case:"
   ]
  },
  {
   "cell_type": "code",
   "metadata": {
    "ExecuteTime": {
     "end_time": "2024-05-30T14:09:46.351707Z",
     "start_time": "2024-05-30T14:09:46.346500Z"
    }
   },
   "source": [
    "from scipy.special import binom # binomial-function\n",
    "\n",
    "# probability for a boy\n",
    "prob_boy = .5\n",
    "# Add new colum to the data frame for the expected percentages\n",
    "families['expected_p'] = binom(5, families.num_boys) * prob_boy**families.num_boys * prob_boy**(5-families.num_boys)\n",
    "# Expected absolute frequencies in the sample:\n",
    "families['expected'] = families['expected_p'] * n\n",
    "families"
   ],
   "outputs": [
    {
     "data": {
      "text/plain": [
       "   num_boys  observed  expected_p  expected\n",
       "0         0        58     0.03125   31.9375\n",
       "1         1       149     0.15625  159.6875\n",
       "2         2       305     0.31250  319.3750\n",
       "3         3       303     0.31250  319.3750\n",
       "4         4       162     0.15625  159.6875\n",
       "5         5        45     0.03125   31.9375"
      ],
      "text/html": [
       "<div>\n",
       "<style scoped>\n",
       "    .dataframe tbody tr th:only-of-type {\n",
       "        vertical-align: middle;\n",
       "    }\n",
       "\n",
       "    .dataframe tbody tr th {\n",
       "        vertical-align: top;\n",
       "    }\n",
       "\n",
       "    .dataframe thead th {\n",
       "        text-align: right;\n",
       "    }\n",
       "</style>\n",
       "<table border=\"1\" class=\"dataframe\">\n",
       "  <thead>\n",
       "    <tr style=\"text-align: right;\">\n",
       "      <th></th>\n",
       "      <th>num_boys</th>\n",
       "      <th>observed</th>\n",
       "      <th>expected_p</th>\n",
       "      <th>expected</th>\n",
       "    </tr>\n",
       "  </thead>\n",
       "  <tbody>\n",
       "    <tr>\n",
       "      <th>0</th>\n",
       "      <td>0</td>\n",
       "      <td>58</td>\n",
       "      <td>0.03125</td>\n",
       "      <td>31.9375</td>\n",
       "    </tr>\n",
       "    <tr>\n",
       "      <th>1</th>\n",
       "      <td>1</td>\n",
       "      <td>149</td>\n",
       "      <td>0.15625</td>\n",
       "      <td>159.6875</td>\n",
       "    </tr>\n",
       "    <tr>\n",
       "      <th>2</th>\n",
       "      <td>2</td>\n",
       "      <td>305</td>\n",
       "      <td>0.31250</td>\n",
       "      <td>319.3750</td>\n",
       "    </tr>\n",
       "    <tr>\n",
       "      <th>3</th>\n",
       "      <td>3</td>\n",
       "      <td>303</td>\n",
       "      <td>0.31250</td>\n",
       "      <td>319.3750</td>\n",
       "    </tr>\n",
       "    <tr>\n",
       "      <th>4</th>\n",
       "      <td>4</td>\n",
       "      <td>162</td>\n",
       "      <td>0.15625</td>\n",
       "      <td>159.6875</td>\n",
       "    </tr>\n",
       "    <tr>\n",
       "      <th>5</th>\n",
       "      <td>5</td>\n",
       "      <td>45</td>\n",
       "      <td>0.03125</td>\n",
       "      <td>31.9375</td>\n",
       "    </tr>\n",
       "  </tbody>\n",
       "</table>\n",
       "</div>"
      ]
     },
     "execution_count": 58,
     "metadata": {},
     "output_type": "execute_result"
    }
   ],
   "execution_count": 58
  },
  {
   "cell_type": "markdown",
   "metadata": {},
   "source": [
    "We perform the chi-squared goodness-of-fit test with significance level $\\alpha = 0.01$."
   ]
  },
  {
   "cell_type": "code",
   "metadata": {
    "ExecuteTime": {
     "end_time": "2024-05-30T14:09:46.355869Z",
     "start_time": "2024-05-30T14:09:46.352727Z"
    }
   },
   "source": [
    "alpha=0.01                         # significance level\n",
    "dof=len(families)-1                # degrees of freedom\n",
    "g = stats.chi2.isf(alpha, df=dof)  # Critical value\n",
    "# Perform Chi-squared test, calculate χ² and p\n",
    "chi2, p = stats.chisquare(f_obs=families.observed, f_exp=families.expected)\n",
    "\n",
    "print(\"Chi-squared   χ² = %.4f\" % chi2)\n",
    "print(\"Critical value g = %.4f\" % g)\n",
    "print(\"p-value        p = %f\"   % p)"
   ],
   "outputs": [
    {
     "name": "stdout",
     "output_type": "stream",
     "text": [
      "Chi-squared   χ² = 28.8462\n",
      "Critical value g = 15.0863\n",
      "p-value        p = 0.000025\n"
     ]
    }
   ],
   "execution_count": 59
  },
  {
   "cell_type": "markdown",
   "metadata": {},
   "source": [
    "This is a very small p-value. The chi-squared is also to the right of the critical value. This means that we can reject the null hypothesis. A plot:"
   ]
  },
  {
   "cell_type": "code",
   "metadata": {
    "ExecuteTime": {
     "end_time": "2024-05-30T14:09:46.457536Z",
     "start_time": "2024-05-30T14:09:46.357098Z"
    }
   },
   "source": [
    "# x-values:\n",
    "x = np.linspace(0, 30, num=200)\n",
    "# probability density of the chi-squared distribution\n",
    "y = stats.chi2.pdf(x, df=dof)\n",
    "# the number q for which the right tail probability is exactly 1%:\n",
    "q = stats.chi2.isf(alpha, df=4)  # TODO: CHECK this!\n",
    "\n",
    "fig, tplot = plt.subplots(1, 1)\n",
    "tplot.plot(x, y)                     # probability density\n",
    "tplot.fill_between(x, y, where=x>=q, # critical area\n",
    "    color='lightblue')\n",
    "tplot.axvline(q)                     # critical value\n",
    "tplot.axvline(chi2, color='orange'); # chi-squared"
   ],
   "outputs": [
    {
     "data": {
      "text/plain": [
       "<Figure size 640x480 with 1 Axes>"
      ],
      "image/png": "[encoded data removed]"
     },
     "metadata": {},
     "output_type": "display_data"
    }
   ],
   "execution_count": 60
  },
  {
   "cell_type": "markdown",
   "metadata": {},
   "source": [
    "We conclude that this sample is NOT representative for the population!\n",
    "\n",
    "The formula for calculating standardised residuals is:\n",
    "\n",
    "$r_i = \\frac{o_i-e_i}{\\sqrt{e_i (1-\\pi_i)}}$\n",
    "\n",
    "We will add these to our data frame in a new column:"
   ]
  },
  {
   "cell_type": "code",
   "metadata": {
    "ExecuteTime": {
     "end_time": "2024-05-30T14:09:46.464329Z",
     "start_time": "2024-05-30T14:09:46.458730Z"
    }
   },
   "source": [
    "families['stdres'] = (families.observed - families.expected) / np.sqrt(families.expected * (1 - families.expected_p))\n",
    "families"
   ],
   "outputs": [
    {
     "data": {
      "text/plain": [
       "   num_boys  observed  expected_p  expected    stdres\n",
       "0         0        58     0.03125   31.9375  4.685541\n",
       "1         1       149     0.15625  159.6875 -0.920733\n",
       "2         2       305     0.31250  319.3750 -0.970110\n",
       "3         3       303     0.31250  319.3750 -1.105082\n",
       "4         4       162     0.15625  159.6875  0.199223\n",
       "5         5        45     0.03125   31.9375  2.348389"
      ],
      "text/html": [
       "<div>\n",
       "<style scoped>\n",
       "    .dataframe tbody tr th:only-of-type {\n",
       "        vertical-align: middle;\n",
       "    }\n",
       "\n",
       "    .dataframe tbody tr th {\n",
       "        vertical-align: top;\n",
       "    }\n",
       "\n",
       "    .dataframe thead th {\n",
       "        text-align: right;\n",
       "    }\n",
       "</style>\n",
       "<table border=\"1\" class=\"dataframe\">\n",
       "  <thead>\n",
       "    <tr style=\"text-align: right;\">\n",
       "      <th></th>\n",
       "      <th>num_boys</th>\n",
       "      <th>observed</th>\n",
       "      <th>expected_p</th>\n",
       "      <th>expected</th>\n",
       "      <th>stdres</th>\n",
       "    </tr>\n",
       "  </thead>\n",
       "  <tbody>\n",
       "    <tr>\n",
       "      <th>0</th>\n",
       "      <td>0</td>\n",
       "      <td>58</td>\n",
       "      <td>0.03125</td>\n",
       "      <td>31.9375</td>\n",
       "      <td>4.685541</td>\n",
       "    </tr>\n",
       "    <tr>\n",
       "      <th>1</th>\n",
       "      <td>1</td>\n",
       "      <td>149</td>\n",
       "      <td>0.15625</td>\n",
       "      <td>159.6875</td>\n",
       "      <td>-0.920733</td>\n",
       "    </tr>\n",
       "    <tr>\n",
       "      <th>2</th>\n",
       "      <td>2</td>\n",
       "      <td>305</td>\n",
       "      <td>0.31250</td>\n",
       "      <td>319.3750</td>\n",
       "      <td>-0.970110</td>\n",
       "    </tr>\n",
       "    <tr>\n",
       "      <th>3</th>\n",
       "      <td>3</td>\n",
       "      <td>303</td>\n",
       "      <td>0.31250</td>\n",
       "      <td>319.3750</td>\n",
       "      <td>-1.105082</td>\n",
       "    </tr>\n",
       "    <tr>\n",
       "      <th>4</th>\n",
       "      <td>4</td>\n",
       "      <td>162</td>\n",
       "      <td>0.15625</td>\n",
       "      <td>159.6875</td>\n",
       "      <td>0.199223</td>\n",
       "    </tr>\n",
       "    <tr>\n",
       "      <th>5</th>\n",
       "      <td>5</td>\n",
       "      <td>45</td>\n",
       "      <td>0.03125</td>\n",
       "      <td>31.9375</td>\n",
       "      <td>2.348389</td>\n",
       "    </tr>\n",
       "  </tbody>\n",
       "</table>\n",
       "</div>"
      ]
     },
     "execution_count": 61,
     "metadata": {},
     "output_type": "execute_result"
    }
   ],
   "execution_count": 61
  },
  {
   "cell_type": "markdown",
   "metadata": {},
   "source": [
    "Standardised residuals are a measure of the extent to which a certain category is over- or under-represented in the sample. A value of 0 is given when the observed frequency is equal to the expected frequency. A negative value is given when there are fewer observations than expected and a positive value when there are more. As long as $r_i \\in [-2, 2]$, we consider the differences to be random sampling errors. A value $r_i < -2$ indicates underrepresentation of this category, $r_i > 2$ indicates overrepresentation.\n",
    "\n",
    "Thus, families with only girls and only boys are over-represented in the sample. In practice, researchers could choose to randomly remove a number of observations in these categories from the study, so that the sample becomes representative of the population.\n",
    "\n",
    "Remark that there is a way to calculate standardized residuals using [`statsmodels.stats.contingency_tables.Table`](https://www.statsmodels.org/stable/generated/statsmodels.stats.contingency_tables.Table.html#statsmodels.stats.contingency_tables.Table). However, that only works with [contingency tables for two variables](https://www.statsmodels.org/stable/contingency_tables.html?highlight=residuals), not for this case with one variable.\n",
    "\n",
    "## Cochran's rule\n",
    "\n",
    "A chi-squared test can only give good results if you have enough observations in each category. The statistician Cochran (1954) formulated a rule of thumb to determine what exactly *enough* is on contingency tables larger than 2x2:\n",
    "\n",
    "- All expected values must be at least 1\n",
    "- At most 20% of the expected values may be smaller than 5"
   ]
  }
 ],
 "metadata": {
  "interpreter": {
   "hash": "e7370f93d1d0cde622a1f8e1c04877d8463912d04d973331ad4851f04de6915a"
  },
  "kernelspec": {
   "display_name": "Python 3 (ipykernel)",
   "language": "python",
   "name": "python3"
  },
  "language_info": {
   "codemirror_mode": {
    "name": "ipython",
    "version": 3
   },
   "file_extension": ".py",
   "mimetype": "text/x-python",
   "name": "python",
   "nbconvert_exporter": "python",
   "pygments_lexer": "ipython3",
   "version": "3.12.2"
  },
  "orig_nbformat": 4
 },
 "nbformat": 4,
 "nbformat_minor": 2
}
