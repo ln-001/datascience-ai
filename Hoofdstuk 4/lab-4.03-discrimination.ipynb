{
 "cells": [
  {
   "cell_type": "markdown",
   "metadata": {
    "id": "xDBTRYzLSeM_"
   },
   "source": [
    "# Lab 4.03 - Bivariate Analysis of Qualitative Data\n"
   ]
  },
  {
   "cell_type": "code",
   "metadata": {
    "id": "j8I-eUfMSeNF",
    "ExecuteTime": {
     "end_time": "2024-05-30T15:55:22.212726Z",
     "start_time": "2024-05-30T15:55:22.208882Z"
    }
   },
   "source": [
    "# Importing the necessary packages\n",
    "import numpy as np                                  # \"Scientific computing\"\n",
    "import scipy.stats as stats                         # Statistical tests\n",
    "\n",
    "import pandas as pd                                 # Data Frame\n",
    "from pandas.api.types import CategoricalDtype\n",
    "\n",
    "import matplotlib.pyplot as plt                     # Basic visualisation\n",
    "from statsmodels.graphics.mosaicplot import mosaic  # Mosaic diagram\n",
    "import seaborn as sns                               # Advanced data visualisation"
   ],
   "outputs": [],
   "execution_count": 2
  },
  {
   "cell_type": "markdown",
   "metadata": {
    "id": "YBt7tOyqovNc"
   },
   "source": [
    "## Exercise 3 - Discrimination in schoolteacher hiring\n",
    "\n",
    "African Americans in a St. Louis suburb sued the city \n",
    "claiming they were discriminated against in schoolteacher hiring. Of the city's population, 5.7% were \n",
    "African American; of 405 teachers in the school system, 15 were African American. Set up appropriate \n",
    "hypotheses and determine whether African Americans \n",
    "are underrepresented.  \n",
    "Calculate the standardized residuals. \n",
    "\n",
    "Results of the main calculations:\n",
    "- Chi-squared        χ² = 3.0027\n",
    "- Critical value      g = 3.8415\n",
    "- p-value             p = 0.0831\n",
    "- standardized residuals for african american = -1.7328 > - 2"
   ]
  },
  {
   "cell_type": "code",
   "metadata": {
    "id": "VxX_Gzrustbn",
    "ExecuteTime": {
     "end_time": "2024-05-30T16:17:19.440458Z",
     "start_time": "2024-05-30T16:17:19.429708Z"
    }
   },
   "source": [
    "observed =   np.array([15, 390])\n",
    "expected_p = np.array([0.057, 0.943])\n",
    "\n",
    "alpha = 0.05               # Significance level\n",
    "n = sum(observed)          # Sample size\n",
    "k = len(observed)          # Number of categories\n",
    "dof = k - 1                # Degrees of freedom\n",
    "expected = expected_p * n  # Expected absolute frequencies in the sample\n",
    "g = stats.chi2.isf(alpha, df=dof)  # Critical value\n",
    "\n",
    "# Goodness-of-fit-test in Python:\n",
    "chi2, p = stats.chisquare(f_obs=observed, f_exp=expected)\n",
    "\n",
    "print(\"Significance level  ⍺ = %.2f\" % alpha)\n",
    "print(\"Sample size         n = %d\" % n)\n",
    "print(\"k = %d; df = %d\" % (k, dof))\n",
    "print(\"Chi-squared        χ² = %.4f\" % chi2)\n",
    "print(\"Critical value      g = %.4f\" % g)\n",
    "print(\"p-value             p = %.4f\" % p)"
   ],
   "outputs": [
    {
     "name": "stdout",
     "output_type": "stream",
     "text": [
      "Significance level  ⍺ = 0.05\n",
      "Sample size         n = 405\n",
      "k = 2; df = 1\n",
      "Chi-squared        χ² = 3.0027\n",
      "Critical value      g = 3.8415\n",
      "p-value             p = 0.0831\n"
     ]
    }
   ],
   "execution_count": 3
  },
  {
   "metadata": {
    "ExecuteTime": {
     "end_time": "2024-05-30T16:22:20.483439Z",
     "start_time": "2024-05-30T16:22:20.480685Z"
    }
   },
   "cell_type": "code",
   "source": [
    "# Conclusie: \n",
    "# p-waarde > 5% of chi-squared < g (=critical value) => er is niet voldoende reden om H0 te verwerpen."
   ],
   "outputs": [],
   "execution_count": 5
  },
  {
   "metadata": {
    "ExecuteTime": {
     "end_time": "2024-05-30T16:22:22.163597Z",
     "start_time": "2024-05-30T16:22:22.160547Z"
    }
   },
   "cell_type": "code",
   "source": "(observed - expected) / np.sqrt(expected*(1-expected_p))",
   "outputs": [
    {
     "data": {
      "text/plain": [
       "array([-1.73284309,  1.73284309])"
      ]
     },
     "execution_count": 6,
     "metadata": {},
     "output_type": "execute_result"
    }
   ],
   "execution_count": 6
  }
 ],
 "metadata": {
  "colab": {
   "provenance": []
  },
  "interpreter": {
   "hash": "e7370f93d1d0cde622a1f8e1c04877d8463912d04d973331ad4851f04de6915a"
  },
  "kernelspec": {
   "display_name": "Python 3.10.0 64-bit",
   "language": "python",
   "name": "python3"
  },
  "language_info": {
   "codemirror_mode": {
    "name": "ipython",
    "version": 3
   },
   "file_extension": ".py",
   "mimetype": "text/x-python",
   "name": "python",
   "nbconvert_exporter": "python",
   "pygments_lexer": "ipython3",
   "version": "3.10.2"
  },
  "orig_nbformat": 4
 },
 "nbformat": 4,
 "nbformat_minor": 0
}
