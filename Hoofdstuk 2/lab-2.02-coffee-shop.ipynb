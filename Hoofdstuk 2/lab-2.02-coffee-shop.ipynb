{
 "cells": [
  {
   "cell_type": "markdown",
   "metadata": {
    "id": "dYTxJWJG5miJ"
   },
   "source": [
    "# Lab 2.02 - Univariate Analysis\n"
   ]
  },
  {
   "cell_type": "code",
   "metadata": {
    "id": "MvwMKfrI8X-p",
    "ExecuteTime": {
     "end_time": "2024-05-09T10:41:01.572406Z",
     "start_time": "2024-05-09T10:41:01.568014Z"
    }
   },
   "source": [
    "# Importing the necessary packages\n",
    "import numpy as np                                  # \"Scientific computing\"\n",
    "import scipy.stats as stats                         # Statistical tests\n",
    "\n",
    "import pandas as pd                                 # Data Frame\n",
    "from pandas.api.types import CategoricalDtype\n",
    "\n",
    "import matplotlib.pyplot as plt                     # Basic visualisation\n",
    "from statsmodels.graphics.mosaicplot import mosaic  # Mosaic diagram\n",
    "import seaborn as sns                               # Advanced data visualisation"
   ],
   "outputs": [],
   "execution_count": 1
  },
  {
   "cell_type": "markdown",
   "metadata": {
    "id": "ISZtcLRc8qHI"
   },
   "source": [
    "## Exercise 2\n",
    "\n",
    "The length of time, in minutes, that customers spend in a coffee shop is recorded. Calculate the following statistics:\n",
    "\n",
    "- Median\n",
    "- Range\n",
    "- Quartiles\n",
    "- Interquartile range\n",
    "\n",
    "Source: Complete Probability & Statistics 1 for Cambridge International As & A Level"
   ]
  },
  {
   "cell_type": "code",
   "metadata": {
    "colab": {
     "base_uri": "https://localhost:8080/"
    },
    "id": "BntQ7l2L83tu",
    "outputId": "6fd7374e-5c0b-482f-9baa-5d704eb8a44c",
    "ExecuteTime": {
     "end_time": "2024-05-09T10:44:50.435023Z",
     "start_time": "2024-05-09T10:44:50.432415Z"
    }
   },
   "source": "times = np.array([17, 15, 9, 31, 33, 41, 8, 14, 13, 22, 27, 43, 32, 14])",
   "outputs": [],
   "execution_count": 3
  },
  {
   "metadata": {
    "ExecuteTime": {
     "end_time": "2024-05-09T10:44:51.849013Z",
     "start_time": "2024-05-09T10:44:51.844461Z"
    }
   },
   "cell_type": "code",
   "source": "np.median(times)",
   "outputs": [
    {
     "data": {
      "text/plain": [
       "19.5"
      ]
     },
     "execution_count": 4,
     "metadata": {},
     "output_type": "execute_result"
    }
   ],
   "execution_count": 4
  },
  {
   "metadata": {
    "ExecuteTime": {
     "end_time": "2024-05-09T10:45:26.622833Z",
     "start_time": "2024-05-09T10:45:26.619799Z"
    }
   },
   "cell_type": "code",
   "source": "np.max(times)-np.min(times)",
   "outputs": [
    {
     "data": {
      "text/plain": [
       "35"
      ]
     },
     "execution_count": 5,
     "metadata": {},
     "output_type": "execute_result"
    }
   ],
   "execution_count": 5
  },
  {
   "metadata": {
    "ExecuteTime": {
     "end_time": "2024-05-09T10:47:39.674338Z",
     "start_time": "2024-05-09T10:47:39.668516Z"
    }
   },
   "cell_type": "code",
   "source": [
    "q1 = np.quantile(times, 0.25)\n",
    "q2 = np.quantile(times, 0.50)\n",
    "q3 = np.quantile(times, 0.75)\n",
    "q4 = np.quantile(times, 1)\n",
    "\n",
    "print(\"q1: \", q1)\n",
    "print(\"q2: \", q2)\n",
    "print(\"q3: \", q3)\n",
    "print(\"q4: \", q4)"
   ],
   "outputs": [
    {
     "name": "stdout",
     "output_type": "stream",
     "text": [
      "q1:  14.0\n",
      "q2:  19.5\n",
      "q3:  31.75\n",
      "q4:  43\n"
     ]
    }
   ],
   "execution_count": 7
  },
  {
   "metadata": {
    "ExecuteTime": {
     "end_time": "2024-05-09T10:56:41.133527Z",
     "start_time": "2024-05-09T10:56:41.126422Z"
    }
   },
   "cell_type": "code",
   "source": "np.quantile(times,0.75) - np.quantile(times,0.25)",
   "outputs": [
    {
     "data": {
      "text/plain": [
       "17.75"
      ]
     },
     "execution_count": 8,
     "metadata": {},
     "output_type": "execute_result"
    }
   ],
   "execution_count": 8
  }
 ],
 "metadata": {
  "colab": {
   "provenance": []
  },
  "gpuClass": "standard",
  "kernelspec": {
   "display_name": "Python 3 (ipykernel)",
   "name": "python3",
   "language": "python"
  },
  "language_info": {
   "name": "python"
  },
  "orig_nbformat": 4
 },
 "nbformat": 4,
 "nbformat_minor": 0
}
