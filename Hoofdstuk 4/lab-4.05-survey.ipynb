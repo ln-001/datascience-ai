{
 "cells": [
  {
   "cell_type": "markdown",
   "metadata": {
    "id": "xDBTRYzLSeM_"
   },
   "source": " # Lab 4.05 - Bivariate Analysis of Qualitative Data\n"
  },
  {
   "cell_type": "code",
   "metadata": {
    "id": "j8I-eUfMSeNF",
    "ExecuteTime": {
     "end_time": "2024-05-30T19:27:06.912563Z",
     "start_time": "2024-05-30T19:27:06.910098Z"
    }
   },
   "source": [
    "# Importing the necessary packages\n",
    "import numpy as np                                  # \"Scientific computing\"\n",
    "import scipy.stats as stats                         # Statistical tests\n",
    "\n",
    "import pandas as pd                                 # Data Frame\n",
    "from pandas.api.types import CategoricalDtype\n",
    "\n",
    "import matplotlib.pyplot as plt                     # Basic visualisation\n",
    "from statsmodels.graphics.mosaicplot import mosaic  # Mosaic diagram\n",
    "import seaborn as sns                               # Advanced data visualisation"
   ],
   "outputs": [],
   "execution_count": 122
  },
  {
   "cell_type": "markdown",
   "metadata": {
    "id": "0JrAljj350Yf"
   },
   "source": [
    "## Exercise 5 - Survey of Australian Students\n",
    "\n",
    "Load the data file data/survey.csv. It contains the result of a survey of students from an Australian university.\n",
    "\n",
    "We want to investigate the relationship between some discrete (nominal or ordinal) variables in this dataset. For any pairs of variables listed below, follow these steps:\n",
    "\n",
    "* First, think about what exactly you expect for the given combination of variables.\n",
    "* Make a frequency table for the two variables. The (presumably) independent variable comes first.\n",
    "* Plot a graph visualizing the relationship between the two variables.\n",
    "- Looking at the chart, do you expect a rather high or rather low value for the $\\chi^2$ statistic? Why?\n",
    "* Run the $\\chi^2$ test to determine whether there is a relationship between the two variables. Calculate the $\\chi^2$ statistic, the critical limit $g$ and the $p$ value, each for significance level $\\alpha = 0.05$.\n",
    "* Should we accept or reject the null hypothesis? What exactly does that mean for the relationship between the two variables? In other words, formulate an answer to the research question.\n",
    "* Calculate Cramér's V. Do you come to a similar conclusion as with the $\\chi^2$ test?\n",
    "\n",
    "\n",
    "The variables to be investigated:\n",
    "\n",
    "| Independent variabele          | Dependent variabele                        |\n",
    "|:------------------------------ |:-------------------------------------------|\n",
    "| `Exer` (practicing sports)     | `Smoke`                                    |\n",
    "| `Sex` (gender)                 | `Smoke`                                    |\n",
    "| `W.Hnd` (dominant hand)        | `Fold` (top hand when you cross your arms) |\n",
    "| `Sex`                          | `W.Hnd`                                    |\n",
    "\n",
    "Results of the main calculations (rounded up to 3 decimal places):\n",
    "\n",
    "- `Exer/Smoke`: χ² ≈ 5.489, g ≈ 12.592, p ≈ 0.483\n",
    "- `W.Hnd/Fold`: χ² ≈ 1.581, g ≈ 5.992, p ≈ 0.454\n",
    "- `Sex/Smoke`: χ² ≈ 3.554, g ≈ 7.815, p ≈ 0.314\n",
    "- `Sex/W.Hnd`: χ² ≈ 0.236, g ≈ 3.842, p ≈ 0.627"
   ]
  },
  {
   "cell_type": "markdown",
   "metadata": {
    "id": "xLnXDNr2ULo_"
   },
   "source": [
    "Read the dataset."
   ]
  },
  {
   "cell_type": "code",
   "metadata": {
    "id": "PImy42Ev_nfl",
    "ExecuteTime": {
     "end_time": "2024-05-30T19:27:07.063996Z",
     "start_time": "2024-05-30T19:27:06.975530Z"
    }
   },
   "source": [
    "df = pd.read_csv('https://raw.githubusercontent.com/HoGentTIN/dsai-labs/main/data/survey.csv', keep_default_na=False)\n",
    "df.head()"
   ],
   "outputs": [
    {
     "data": {
      "text/plain": [
       "   Unnamed: 0     Sex Wr.Hnd NW.Hnd  W.Hnd     Fold Pulse     Clap  Exer  \\\n",
       "0           1  Female   18.5     18  Right   R on L    92     Left  Some   \n",
       "1           2    Male   19.5   20.5   Left   R on L   104     Left  None   \n",
       "2           3    Male     18   13.3  Right   L on R    87  Neither  None   \n",
       "3           4    Male   18.8   18.9  Right   R on L    NA  Neither  None   \n",
       "4           5    Male     20     20  Right  Neither    35    Right  Some   \n",
       "\n",
       "   Smoke Height       M.I     Age  \n",
       "0  Never    173    Metric  18.250  \n",
       "1  Regul  177.8  Imperial  17.583  \n",
       "2  Occas     NA        NA  16.917  \n",
       "3  Never    160    Metric  20.333  \n",
       "4  Never    165    Metric  23.667  "
      ],
      "text/html": [
       "<div>\n",
       "<style scoped>\n",
       "    .dataframe tbody tr th:only-of-type {\n",
       "        vertical-align: middle;\n",
       "    }\n",
       "\n",
       "    .dataframe tbody tr th {\n",
       "        vertical-align: top;\n",
       "    }\n",
       "\n",
       "    .dataframe thead th {\n",
       "        text-align: right;\n",
       "    }\n",
       "</style>\n",
       "<table border=\"1\" class=\"dataframe\">\n",
       "  <thead>\n",
       "    <tr style=\"text-align: right;\">\n",
       "      <th></th>\n",
       "      <th>Unnamed: 0</th>\n",
       "      <th>Sex</th>\n",
       "      <th>Wr.Hnd</th>\n",
       "      <th>NW.Hnd</th>\n",
       "      <th>W.Hnd</th>\n",
       "      <th>Fold</th>\n",
       "      <th>Pulse</th>\n",
       "      <th>Clap</th>\n",
       "      <th>Exer</th>\n",
       "      <th>Smoke</th>\n",
       "      <th>Height</th>\n",
       "      <th>M.I</th>\n",
       "      <th>Age</th>\n",
       "    </tr>\n",
       "  </thead>\n",
       "  <tbody>\n",
       "    <tr>\n",
       "      <th>0</th>\n",
       "      <td>1</td>\n",
       "      <td>Female</td>\n",
       "      <td>18.5</td>\n",
       "      <td>18</td>\n",
       "      <td>Right</td>\n",
       "      <td>R on L</td>\n",
       "      <td>92</td>\n",
       "      <td>Left</td>\n",
       "      <td>Some</td>\n",
       "      <td>Never</td>\n",
       "      <td>173</td>\n",
       "      <td>Metric</td>\n",
       "      <td>18.250</td>\n",
       "    </tr>\n",
       "    <tr>\n",
       "      <th>1</th>\n",
       "      <td>2</td>\n",
       "      <td>Male</td>\n",
       "      <td>19.5</td>\n",
       "      <td>20.5</td>\n",
       "      <td>Left</td>\n",
       "      <td>R on L</td>\n",
       "      <td>104</td>\n",
       "      <td>Left</td>\n",
       "      <td>None</td>\n",
       "      <td>Regul</td>\n",
       "      <td>177.8</td>\n",
       "      <td>Imperial</td>\n",
       "      <td>17.583</td>\n",
       "    </tr>\n",
       "    <tr>\n",
       "      <th>2</th>\n",
       "      <td>3</td>\n",
       "      <td>Male</td>\n",
       "      <td>18</td>\n",
       "      <td>13.3</td>\n",
       "      <td>Right</td>\n",
       "      <td>L on R</td>\n",
       "      <td>87</td>\n",
       "      <td>Neither</td>\n",
       "      <td>None</td>\n",
       "      <td>Occas</td>\n",
       "      <td>NA</td>\n",
       "      <td>NA</td>\n",
       "      <td>16.917</td>\n",
       "    </tr>\n",
       "    <tr>\n",
       "      <th>3</th>\n",
       "      <td>4</td>\n",
       "      <td>Male</td>\n",
       "      <td>18.8</td>\n",
       "      <td>18.9</td>\n",
       "      <td>Right</td>\n",
       "      <td>R on L</td>\n",
       "      <td>NA</td>\n",
       "      <td>Neither</td>\n",
       "      <td>None</td>\n",
       "      <td>Never</td>\n",
       "      <td>160</td>\n",
       "      <td>Metric</td>\n",
       "      <td>20.333</td>\n",
       "    </tr>\n",
       "    <tr>\n",
       "      <th>4</th>\n",
       "      <td>5</td>\n",
       "      <td>Male</td>\n",
       "      <td>20</td>\n",
       "      <td>20</td>\n",
       "      <td>Right</td>\n",
       "      <td>Neither</td>\n",
       "      <td>35</td>\n",
       "      <td>Right</td>\n",
       "      <td>Some</td>\n",
       "      <td>Never</td>\n",
       "      <td>165</td>\n",
       "      <td>Metric</td>\n",
       "      <td>23.667</td>\n",
       "    </tr>\n",
       "  </tbody>\n",
       "</table>\n",
       "</div>"
      ]
     },
     "execution_count": 123,
     "metadata": {},
     "output_type": "execute_result"
    }
   ],
   "execution_count": 123
  },
  {
   "cell_type": "markdown",
   "metadata": {
    "id": "ClPiYvicUTfi"
   },
   "source": [
    "What are the different values for Exer and Smoke?  \n",
    "Change both variables to ordinal variables with a specific order."
   ]
  },
  {
   "metadata": {
    "ExecuteTime": {
     "end_time": "2024-05-30T19:27:07.070905Z",
     "start_time": "2024-05-30T19:27:07.066099Z"
    }
   },
   "cell_type": "code",
   "source": "df.Exer.value_counts()",
   "outputs": [
    {
     "data": {
      "text/plain": [
       "Exer\n",
       "Freq    115\n",
       "Some     98\n",
       "None     24\n",
       "Name: count, dtype: int64"
      ]
     },
     "execution_count": 124,
     "metadata": {},
     "output_type": "execute_result"
    }
   ],
   "execution_count": 124
  },
  {
   "metadata": {
    "ExecuteTime": {
     "end_time": "2024-05-30T19:27:07.076381Z",
     "start_time": "2024-05-30T19:27:07.072066Z"
    }
   },
   "cell_type": "code",
   "source": "df.Smoke.value_counts()",
   "outputs": [
    {
     "data": {
      "text/plain": [
       "Smoke\n",
       "Never    189\n",
       "Occas     19\n",
       "Regul     17\n",
       "Heavy     11\n",
       "NA         1\n",
       "Name: count, dtype: int64"
      ]
     },
     "execution_count": 125,
     "metadata": {},
     "output_type": "execute_result"
    }
   ],
   "execution_count": 125
  },
  {
   "metadata": {
    "ExecuteTime": {
     "end_time": "2024-05-30T19:27:07.083306Z",
     "start_time": "2024-05-30T19:27:07.079271Z"
    }
   },
   "cell_type": "code",
   "source": [
    "exer_type=CategoricalDtype(categories=['None', 'Some', 'Freq'], ordered=True)\n",
    "df.Exer = df.Exer.astype(exer_type)\n",
    "smoke_type=CategoricalDtype(categories=['Never', 'Occas', 'Heavy', 'Regul'], ordered=True)\n",
    "df.Smoke = df.Smoke.astype(smoke_type)"
   ],
   "outputs": [],
   "execution_count": 126
  },
  {
   "cell_type": "markdown",
   "metadata": {
    "id": "AHYMorUvUrpF"
   },
   "source": [
    "* Make a frequency table for the two variables. The (presumably) independent variable comes first.\n",
    "* Plot a graph visualizing the relationship between the two variables.\n",
    "* Looking at the chart, do you expect a rather high or rather low value for the  χ2  statistic? Why?\n",
    "* Run the  χ2  test to determine whether there is a relationship between the two variables. Calculate the  χ2  statistic, the critical limit  g  and the  p  value, each for significance level  α=0.05 .\n",
    "* Should we accept or reject the null hypothesis? What exactly does that mean for the relationship between the two variables? In other words, formulate an answer to the research question.\n",
    "* Calculate Cramér's V. Do you come to a similar conclusion as with the  χ2  test?\n",
    "\n",
    "The variables to be investigated:\n",
    "\n",
    "| Independent variabele          | Dependent variabele                        |\n",
    "|:------------------------------ |:-------------------------------------------|\n",
    "| `Exer` (practicing sports)     | `Smoke`                                    |\n",
    "| `Sex` (gender)                 | `Smoke`                                    |\n",
    "| `W.Hnd` (dominant hand)        | `Fold` (top hand when you cross your arms) |\n",
    "| `Sex`                          | `W.Hnd`                                    |\n",
    "\n",
    "Results of the main calculations (rounded up to 3 decimal places):\n",
    "\n",
    "- `Exer/Smoke`: χ² ≈ 5.489, g ≈ 12.592, p ≈ 0.483\n",
    "- `W.Hnd/Fold`: χ² ≈ 1.581, g ≈ 5.992, p ≈ 0.454\n",
    "- `Sex/Smoke`: χ² ≈ 3.554, g ≈ 7.815, p ≈ 0.314\n",
    "- `Sex/W.Hnd`: χ² ≈ 0.236, g ≈ 3.842, p ≈ 0.627"
   ]
  },
  {
   "metadata": {
    "ExecuteTime": {
     "end_time": "2024-05-30T19:27:07.094413Z",
     "start_time": "2024-05-30T19:27:07.084940Z"
    }
   },
   "cell_type": "code",
   "source": [
    "observed = pd.crosstab(df.Exer, df.Smoke)\n",
    "chi2, p, dof, expected = stats.chi2_contingency(observed)\n",
    "\n",
    "print(\"Chi-squared       : %.4f\" % chi2)\n",
    "print(\"Degrees of freedom: %d\" % dof)\n",
    "print(\"P-value           : %.4f\" % p)"
   ],
   "outputs": [
    {
     "name": "stdout",
     "output_type": "stream",
     "text": [
      "Chi-squared       : 5.4885\n",
      "Degrees of freedom: 6\n",
      "P-value           : 0.4828\n"
     ]
    }
   ],
   "execution_count": 127
  },
  {
   "metadata": {
    "ExecuteTime": {
     "end_time": "2024-05-30T19:27:07.431323Z",
     "start_time": "2024-05-30T19:27:07.095930Z"
    }
   },
   "cell_type": "code",
   "source": [
    "# Contingency table without the margins\n",
    "observed_p = pd.crosstab(df.Exer, df.Smoke, normalize='index')\n",
    "\n",
    "# Horizontally oriented stacked bar chart\n",
    "observed_p.plot(kind='barh', stacked=True);"
   ],
   "outputs": [
    {
     "data": {
      "text/plain": [
       "<Figure size 640x480 with 1 Axes>"
      ],
      "image/png": "[encoded data removed]"
     },
     "metadata": {},
     "output_type": "display_data"
    }
   ],
   "execution_count": 128
  },
  {
   "metadata": {
    "ExecuteTime": {
     "end_time": "2024-05-30T19:27:07.438171Z",
     "start_time": "2024-05-30T19:27:07.432992Z"
    }
   },
   "cell_type": "code",
   "source": "stats.contingency.association(observed, method='cramer')",
   "outputs": [
    {
     "data": {
      "text/plain": [
       "0.10783448053343489"
      ]
     },
     "execution_count": 129,
     "metadata": {},
     "output_type": "execute_result"
    }
   ],
   "execution_count": 129
  },
  {
   "cell_type": "markdown",
   "metadata": {
    "id": "-ymGHckoe-KW"
   },
   "source": [
    "Exer/Smoke: χ² ≈ 5.489, g ≈ 12.592, p ≈ 0.483"
   ]
  },
  {
   "metadata": {
    "ExecuteTime": {
     "end_time": "2024-05-30T19:27:07.447484Z",
     "start_time": "2024-05-30T19:27:07.441051Z"
    }
   },
   "cell_type": "code",
   "source": "df[\"W.Hnd\"].value_counts()",
   "outputs": [
    {
     "data": {
      "text/plain": [
       "W.Hnd\n",
       "Right    218\n",
       "Left      18\n",
       "NA         1\n",
       "Name: count, dtype: int64"
      ]
     },
     "execution_count": 130,
     "metadata": {},
     "output_type": "execute_result"
    }
   ],
   "execution_count": 130
  },
  {
   "metadata": {
    "ExecuteTime": {
     "end_time": "2024-05-30T19:27:07.453769Z",
     "start_time": "2024-05-30T19:27:07.448743Z"
    }
   },
   "cell_type": "code",
   "source": "df[\"Fold\"].value_counts()",
   "outputs": [
    {
     "data": {
      "text/plain": [
       "Fold\n",
       "R on L     120\n",
       "L on R      99\n",
       "Neither     18\n",
       "Name: count, dtype: int64"
      ]
     },
     "execution_count": 131,
     "metadata": {},
     "output_type": "execute_result"
    }
   ],
   "execution_count": 131
  },
  {
   "metadata": {
    "ExecuteTime": {
     "end_time": "2024-05-30T19:27:07.459491Z",
     "start_time": "2024-05-30T19:27:07.455280Z"
    }
   },
   "cell_type": "code",
   "source": [
    "fold_type=CategoricalDtype(categories=['R on L', 'L on R', 'Neither'], ordered=True)\n",
    "df[\"Fold\"] = df[\"Fold\"].astype(fold_type)"
   ],
   "outputs": [],
   "execution_count": 132
  },
  {
   "cell_type": "code",
   "metadata": {
    "id": "q9YgYP1c-XMM",
    "ExecuteTime": {
     "end_time": "2024-05-30T19:27:07.475135Z",
     "start_time": "2024-05-30T19:27:07.460797Z"
    }
   },
   "source": [
    "observed = pd.crosstab(df[\"W.Hnd\"], df.Fold)\n",
    "chi2, p, dof, expected = stats.chi2_contingency(observed)\n",
    "\n",
    "print(\"Chi-squared       : %.4f\" % chi2)\n",
    "print(\"Degrees of freedom: %d\" % dof)\n",
    "print(\"P-value           : %.4f\" % p)"
   ],
   "outputs": [
    {
     "name": "stdout",
     "output_type": "stream",
     "text": [
      "Chi-squared       : 2.9786\n",
      "Degrees of freedom: 4\n",
      "P-value           : 0.5614\n"
     ]
    }
   ],
   "execution_count": 133
  },
  {
   "metadata": {
    "ExecuteTime": {
     "end_time": "2024-05-30T19:27:07.713768Z",
     "start_time": "2024-05-30T19:27:07.476373Z"
    }
   },
   "cell_type": "code",
   "source": [
    "# Contingency table without the margins\n",
    "observed_p = pd.crosstab(df[\"W.Hnd\"], df.Fold, normalize='index')\n",
    "\n",
    "# Horizontally oriented stacked bar chart\n",
    "observed_p.plot(kind='barh', stacked=True);"
   ],
   "outputs": [
    {
     "data": {
      "text/plain": [
       "<Figure size 640x480 with 1 Axes>"
      ],
      "image/png": "[encoded data removed]"
     },
     "metadata": {},
     "output_type": "display_data"
    }
   ],
   "execution_count": 134
  },
  {
   "metadata": {
    "ExecuteTime": {
     "end_time": "2024-05-30T19:27:07.725128Z",
     "start_time": "2024-05-30T19:27:07.717694Z"
    }
   },
   "cell_type": "code",
   "source": "stats.contingency.association(observed, method='cramer')",
   "outputs": [
    {
     "data": {
      "text/plain": [
       "0.07927114594240209"
      ]
     },
     "execution_count": 135,
     "metadata": {},
     "output_type": "execute_result"
    }
   ],
   "execution_count": 135
  },
  {
   "cell_type": "markdown",
   "metadata": {
    "id": "qXTX5yIAfDey"
   },
   "source": [
    "W.Hnd/Fold: χ² ≈ 1.581, g ≈ 5.992, p ≈ 0.454"
   ]
  },
  {
   "cell_type": "code",
   "metadata": {
    "id": "m8bhQxol-dw9",
    "ExecuteTime": {
     "end_time": "2024-05-30T19:27:07.731356Z",
     "start_time": "2024-05-30T19:27:07.726453Z"
    }
   },
   "source": [
    "df[\"Sex\"].value_counts()\n",
    "sex_type = CategoricalDtype(categories=['Male', 'Female'], ordered=True)\n",
    "df[\"Sex\"] = df[\"Sex\"].astype(sex_type)"
   ],
   "outputs": [],
   "execution_count": 136
  },
  {
   "metadata": {
    "ExecuteTime": {
     "end_time": "2024-05-30T19:27:07.771165Z",
     "start_time": "2024-05-30T19:27:07.757344Z"
    }
   },
   "cell_type": "code",
   "source": [
    "observed = pd.crosstab(df[\"Sex\"], df.Smoke)\n",
    "chi2, p, dof, expected = stats.chi2_contingency(observed)\n",
    "\n",
    "print(\"Chi-squared       : %.4f\" % chi2)\n",
    "print(\"Degrees of freedom: %d\" % dof)\n",
    "print(\"P-value           : %.4f\" % p)"
   ],
   "outputs": [
    {
     "name": "stdout",
     "output_type": "stream",
     "text": [
      "Chi-squared       : 3.5536\n",
      "Degrees of freedom: 3\n",
      "P-value           : 0.3139\n"
     ]
    }
   ],
   "execution_count": 137
  },
  {
   "metadata": {
    "ExecuteTime": {
     "end_time": "2024-05-30T19:27:08.149310Z",
     "start_time": "2024-05-30T19:27:07.822708Z"
    }
   },
   "cell_type": "code",
   "source": [
    "# Contingency table without the margins\n",
    "observed_p = pd.crosstab(df[\"Sex\"], df.Smoke, normalize='index')\n",
    "\n",
    "# Horizontally oriented stacked bar chart\n",
    "observed_p.plot(kind='barh', stacked=True);"
   ],
   "outputs": [
    {
     "data": {
      "text/plain": [
       "<Figure size 640x480 with 1 Axes>"
      ],
      "image/png": "[encoded data removed]"
     },
     "metadata": {},
     "output_type": "display_data"
    }
   ],
   "execution_count": 138
  },
  {
   "metadata": {
    "ExecuteTime": {
     "end_time": "2024-05-30T19:27:08.157767Z",
     "start_time": "2024-05-30T19:27:08.152140Z"
    }
   },
   "cell_type": "code",
   "source": "stats.contingency.association(observed, method='cramer')",
   "outputs": [
    {
     "data": {
      "text/plain": [
       "0.12297063364170784"
      ]
     },
     "execution_count": 139,
     "metadata": {},
     "output_type": "execute_result"
    }
   ],
   "execution_count": 139
  },
  {
   "cell_type": "markdown",
   "metadata": {
    "id": "P_--fDpVfGB7"
   },
   "source": [
    "Sex/Smoke: χ² ≈ 3.554, g ≈ 7.815, p ≈ 0.314"
   ]
  },
  {
   "cell_type": "code",
   "metadata": {
    "id": "Y81QYdd4-d51",
    "ExecuteTime": {
     "end_time": "2024-05-30T19:27:08.175165Z",
     "start_time": "2024-05-30T19:27:08.160554Z"
    }
   },
   "source": [
    "observed = pd.crosstab(df[\"Sex\"], df[\"W.Hnd\"])\n",
    "chi2, p, dof, expected = stats.chi2_contingency(observed)\n",
    "\n",
    "print(\"Chi-squared       : %.4f\" % chi2)\n",
    "print(\"Degrees of freedom: %d\" % dof)\n",
    "print(\"P-value           : %.4f\" % p)"
   ],
   "outputs": [
    {
     "name": "stdout",
     "output_type": "stream",
     "text": [
      "Chi-squared       : 1.5478\n",
      "Degrees of freedom: 2\n",
      "P-value           : 0.4612\n"
     ]
    }
   ],
   "execution_count": 140
  },
  {
   "cell_type": "markdown",
   "metadata": {
    "id": "GBza24xKfPJ6"
   },
   "source": [
    "Sex/W.Hnd: χ² ≈ 0.236, g ≈ 3.842, p ≈ 0.627"
   ]
  }
 ],
 "metadata": {
  "colab": {
   "collapsed_sections": [],
   "name": "labs-chi-squared.ipynb",
   "provenance": []
  },
  "interpreter": {
   "hash": "e7370f93d1d0cde622a1f8e1c04877d8463912d04d973331ad4851f04de6915a"
  },
  "kernelspec": {
   "display_name": "Python 3.10.0 64-bit",
   "language": "python",
   "name": "python3"
  },
  "language_info": {
   "codemirror_mode": {
    "name": "ipython",
    "version": 3
   },
   "file_extension": ".py",
   "mimetype": "text/x-python",
   "name": "python",
   "nbconvert_exporter": "python",
   "pygments_lexer": "ipython3",
   "version": "3.10.2"
  },
  "orig_nbformat": 4
 },
 "nbformat": 4,
 "nbformat_minor": 0
}
