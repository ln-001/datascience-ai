{
 "cells": [
  {
   "cell_type": "markdown",
   "metadata": {
    "id": "RzEWLSEPt30W"
   },
   "source": [
    "# Lab 5.04 - Two-sample t-test"
   ]
  },
  {
   "cell_type": "code",
   "metadata": {
    "id": "QnEzGI2its2h",
    "ExecuteTime": {
     "end_time": "2024-06-01T11:03:18.291906Z",
     "start_time": "2024-06-01T11:03:18.289101Z"
    }
   },
   "source": [
    "# Package imports\n",
    "import numpy as np                                  # \"Scientific computing\"\n",
    "import scipy.stats as stats                         # Statistical tests\n",
    "\n",
    "import pandas as pd                                 # Dataframe\n",
    "import matplotlib.pyplot as plt                     # Basic visualisation\n",
    "from statsmodels.graphics.mosaicplot import mosaic  # Mosaic plot\n",
    "import seaborn as sns                               # Advanced dataviz"
   ],
   "outputs": [],
   "execution_count": 37
  },
  {
   "cell_type": "markdown",
   "metadata": {},
   "source": [
    "## Exercise 4 - Android Persistence libraries performance comparison\n",
    "\n",
    "We analyzed the results of performance measurements for Android persistence libraries (Akin, 2016). Experiments were performed for different combinations of *DataSize* (Small, Medium, Large) and *PersistenceType* (GreenDAO, Realm, SharedPreferences, SQLite). For each data size, we were able to determine which persistence type yielded the best results.\n",
    "\n",
    "Now we will verify if the best persistence type at first glance is also *significantly* better than the competition.\n",
    "\n",
    "Specifically: Using a two-sample test for each data size, verify that the mean of the best persistence type is significantly lower than the mean of the second best and the worst scoring type.\n",
    "\n",
    "Can we maintain the conclusion that for a given data size, one persistence type is best, i.e. is significantly better than any other persistence type?"
   ]
  },
  {
   "cell_type": "code",
   "metadata": {
    "ExecuteTime": {
     "end_time": "2024-06-01T11:11:15.570570Z",
     "start_time": "2024-06-01T11:11:15.562877Z"
    }
   },
   "source": [
    "df = pd.read_csv('../data/android_persistence_cpu.csv', delimiter=';')\n",
    "df.head()"
   ],
   "outputs": [
    {
     "data": {
      "text/plain": [
       "   Time    PersistenceType DataSize\n",
       "0  1.81  Sharedpreferences    Small\n",
       "1  1.35  Sharedpreferences    Small\n",
       "2  1.84  Sharedpreferences    Small\n",
       "3  1.54  Sharedpreferences    Small\n",
       "4  1.81  Sharedpreferences    Small"
      ],
      "text/html": [
       "<div>\n",
       "<style scoped>\n",
       "    .dataframe tbody tr th:only-of-type {\n",
       "        vertical-align: middle;\n",
       "    }\n",
       "\n",
       "    .dataframe tbody tr th {\n",
       "        vertical-align: top;\n",
       "    }\n",
       "\n",
       "    .dataframe thead th {\n",
       "        text-align: right;\n",
       "    }\n",
       "</style>\n",
       "<table border=\"1\" class=\"dataframe\">\n",
       "  <thead>\n",
       "    <tr style=\"text-align: right;\">\n",
       "      <th></th>\n",
       "      <th>Time</th>\n",
       "      <th>PersistenceType</th>\n",
       "      <th>DataSize</th>\n",
       "    </tr>\n",
       "  </thead>\n",
       "  <tbody>\n",
       "    <tr>\n",
       "      <th>0</th>\n",
       "      <td>1.81</td>\n",
       "      <td>Sharedpreferences</td>\n",
       "      <td>Small</td>\n",
       "    </tr>\n",
       "    <tr>\n",
       "      <th>1</th>\n",
       "      <td>1.35</td>\n",
       "      <td>Sharedpreferences</td>\n",
       "      <td>Small</td>\n",
       "    </tr>\n",
       "    <tr>\n",
       "      <th>2</th>\n",
       "      <td>1.84</td>\n",
       "      <td>Sharedpreferences</td>\n",
       "      <td>Small</td>\n",
       "    </tr>\n",
       "    <tr>\n",
       "      <th>3</th>\n",
       "      <td>1.54</td>\n",
       "      <td>Sharedpreferences</td>\n",
       "      <td>Small</td>\n",
       "    </tr>\n",
       "    <tr>\n",
       "      <th>4</th>\n",
       "      <td>1.81</td>\n",
       "      <td>Sharedpreferences</td>\n",
       "      <td>Small</td>\n",
       "    </tr>\n",
       "  </tbody>\n",
       "</table>\n",
       "</div>"
      ]
     },
     "execution_count": 54,
     "metadata": {},
     "output_type": "execute_result"
    }
   ],
   "execution_count": 54
  },
  {
   "metadata": {
    "ExecuteTime": {
     "end_time": "2024-06-01T11:11:19.033807Z",
     "start_time": "2024-06-01T11:11:19.020476Z"
    }
   },
   "cell_type": "code",
   "source": [
    "help = df.groupby(['DataSize', 'PersistenceType'])['Time'].describe().reset_index()\n",
    "help.head()"
   ],
   "outputs": [
    {
     "data": {
      "text/plain": [
       "  DataSize PersistenceType  count       mean       std    min      25%  \\\n",
       "0    Large        GreenDAO   30.0  12.110333  0.868461  10.38  11.4775   \n",
       "1    Large           Realm   30.0  10.651667  1.405990   7.68   9.6700   \n",
       "2    Large         SQLLite   30.0  11.515000  0.559142  10.58  11.1175   \n",
       "3   Medium        GreenDAO   30.0   7.454000  2.007358   4.18   6.0700   \n",
       "4   Medium           Realm   30.0   5.818000  1.330951   3.79   4.8925   \n",
       "\n",
       "      50%      75%    max  \n",
       "0  12.045  12.7000  13.56  \n",
       "1  10.660  11.8275  13.36  \n",
       "2  11.425  11.7800  12.96  \n",
       "3   7.425   8.7150  11.94  \n",
       "4   5.690   6.4125  10.34  "
      ],
      "text/html": [
       "<div>\n",
       "<style scoped>\n",
       "    .dataframe tbody tr th:only-of-type {\n",
       "        vertical-align: middle;\n",
       "    }\n",
       "\n",
       "    .dataframe tbody tr th {\n",
       "        vertical-align: top;\n",
       "    }\n",
       "\n",
       "    .dataframe thead th {\n",
       "        text-align: right;\n",
       "    }\n",
       "</style>\n",
       "<table border=\"1\" class=\"dataframe\">\n",
       "  <thead>\n",
       "    <tr style=\"text-align: right;\">\n",
       "      <th></th>\n",
       "      <th>DataSize</th>\n",
       "      <th>PersistenceType</th>\n",
       "      <th>count</th>\n",
       "      <th>mean</th>\n",
       "      <th>std</th>\n",
       "      <th>min</th>\n",
       "      <th>25%</th>\n",
       "      <th>50%</th>\n",
       "      <th>75%</th>\n",
       "      <th>max</th>\n",
       "    </tr>\n",
       "  </thead>\n",
       "  <tbody>\n",
       "    <tr>\n",
       "      <th>0</th>\n",
       "      <td>Large</td>\n",
       "      <td>GreenDAO</td>\n",
       "      <td>30.0</td>\n",
       "      <td>12.110333</td>\n",
       "      <td>0.868461</td>\n",
       "      <td>10.38</td>\n",
       "      <td>11.4775</td>\n",
       "      <td>12.045</td>\n",
       "      <td>12.7000</td>\n",
       "      <td>13.56</td>\n",
       "    </tr>\n",
       "    <tr>\n",
       "      <th>1</th>\n",
       "      <td>Large</td>\n",
       "      <td>Realm</td>\n",
       "      <td>30.0</td>\n",
       "      <td>10.651667</td>\n",
       "      <td>1.405990</td>\n",
       "      <td>7.68</td>\n",
       "      <td>9.6700</td>\n",
       "      <td>10.660</td>\n",
       "      <td>11.8275</td>\n",
       "      <td>13.36</td>\n",
       "    </tr>\n",
       "    <tr>\n",
       "      <th>2</th>\n",
       "      <td>Large</td>\n",
       "      <td>SQLLite</td>\n",
       "      <td>30.0</td>\n",
       "      <td>11.515000</td>\n",
       "      <td>0.559142</td>\n",
       "      <td>10.58</td>\n",
       "      <td>11.1175</td>\n",
       "      <td>11.425</td>\n",
       "      <td>11.7800</td>\n",
       "      <td>12.96</td>\n",
       "    </tr>\n",
       "    <tr>\n",
       "      <th>3</th>\n",
       "      <td>Medium</td>\n",
       "      <td>GreenDAO</td>\n",
       "      <td>30.0</td>\n",
       "      <td>7.454000</td>\n",
       "      <td>2.007358</td>\n",
       "      <td>4.18</td>\n",
       "      <td>6.0700</td>\n",
       "      <td>7.425</td>\n",
       "      <td>8.7150</td>\n",
       "      <td>11.94</td>\n",
       "    </tr>\n",
       "    <tr>\n",
       "      <th>4</th>\n",
       "      <td>Medium</td>\n",
       "      <td>Realm</td>\n",
       "      <td>30.0</td>\n",
       "      <td>5.818000</td>\n",
       "      <td>1.330951</td>\n",
       "      <td>3.79</td>\n",
       "      <td>4.8925</td>\n",
       "      <td>5.690</td>\n",
       "      <td>6.4125</td>\n",
       "      <td>10.34</td>\n",
       "    </tr>\n",
       "  </tbody>\n",
       "</table>\n",
       "</div>"
      ]
     },
     "execution_count": 56,
     "metadata": {},
     "output_type": "execute_result"
    }
   ],
   "execution_count": 56
  },
  {
   "metadata": {
    "ExecuteTime": {
     "end_time": "2024-06-01T11:11:27.534865Z",
     "start_time": "2024-06-01T11:11:27.530001Z"
    }
   },
   "cell_type": "code",
   "source": "stats.ttest_ind(a=df[(df.DataSize =='Small') & (df.PersistenceType =='Realm' )][ 'Time'], b=df[ (df.DataSize == 'Small') & (df.PersistenceType == 'Sharedpreferences' )]['Time'], alternative='less', equal_var=False)",
   "outputs": [
    {
     "data": {
      "text/plain": [
       "TtestResult(statistic=-0.9624716662718156, pvalue=0.16992370571901444, df=57.43660193307136)"
      ]
     },
     "execution_count": 58,
     "metadata": {},
     "output_type": "execute_result"
    }
   ],
   "execution_count": 58
  },
  {
   "cell_type": "markdown",
   "metadata": {},
   "source": [
    "### Answers\n",
    "\n",
    "The table below provides an overview of the best and second best persistence type for each data size (based on the sample mean).\n",
    "\n",
    "| Data Size | Best  | 2nd Best          | p-value   |\n",
    "| :-------- | :---- | :---------------- | :-------- |\n",
    "| Small     | Realm | SharedPreferences | 0.1699    |\n",
    "| Medium    | Realm | GreenDAO          | 0.0002506 |\n",
    "| Large     | Realm | SQLite            | 0.0017    |\n",
    "\n",
    "The conclusion of Akin (2016), which states that Realm is the most efficient persistence type, still holds, but for the small data sets the difference is not significant.\n",
    "\n",
    "Note that we have not explicitly selected a specific significance level in advance. However, for $\\alpha$ = 0.1, 0.05 or even 0.01, the same conclusion can be drawn."
   ]
  }
 ],
 "metadata": {
  "colab": {
   "provenance": []
  },
  "kernelspec": {
   "display_name": "Python 3 (ipykernel)",
   "name": "python3",
   "language": "python"
  },
  "language_info": {
   "codemirror_mode": {
    "name": "ipython",
    "version": 3
   },
   "file_extension": ".py",
   "mimetype": "text/x-python",
   "name": "python",
   "nbconvert_exporter": "python",
   "pygments_lexer": "ipython3",
   "version": "3.12.2"
  }
 },
 "nbformat": 4,
 "nbformat_minor": 0
}
