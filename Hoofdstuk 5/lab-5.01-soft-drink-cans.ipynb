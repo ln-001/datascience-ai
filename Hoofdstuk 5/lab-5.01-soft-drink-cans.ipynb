{
 "cells": [
  {
   "cell_type": "markdown",
   "metadata": {},
   "source": [
    "# Lab 5.01 - Two-sample t-test"
   ]
  },
  {
   "cell_type": "code",
   "metadata": {
    "ExecuteTime": {
     "end_time": "2024-06-01T06:18:07.856263Z",
     "start_time": "2024-06-01T06:18:07.851786Z"
    }
   },
   "source": [
    "# Package imports\n",
    "import numpy as np                                  # \"Scientific computing\"\n",
    "import scipy.stats as stats                         # Statistical tests\n",
    "\n",
    "import pandas as pd                                 # Dataframe\n",
    "import matplotlib.pyplot as plt                     # Basic visualisation\n",
    "from statsmodels.graphics.mosaicplot import mosaic  # Mosaic plot\n",
    "import seaborn as sns                               # Advanced dataviz"
   ],
   "outputs": [],
   "execution_count": 2
  },
  {
   "cell_type": "markdown",
   "metadata": {},
   "source": [
    "## Exercise 1 - soft-drink cans\n",
    "\n",
    "Assume that a soft-drink company is considering a style change to its current can, which has been the company’s trademark for many years. To determine whether this new style is popular with consumers, the company runs a number of focus group sessions around the country. At each of these sessions, randomly selected consumers are allowed to examine the new and traditional styles, exchange ideas, and offer their opinions. \n",
    "Eventually, they fill out a form where, among other questions, they are asked to respond to \n",
    "the following items, each on a scale of 1 to 7, 7 being the best:\n",
    "- Rate the attractiveness of the traditional-style can (AO).\n",
    "- Rate the attractiveness of the new-style can (AN).\n",
    "- Rate the likelihood that you would buy the product with the traditional-style can (WBO).\n",
    "- Rate the likelihood that you would buy the product with the new-style can (WBN).\n",
    "\n",
    "(A and WB stand for \"attractiveness\" and \"would buy\", and O and N stand for \"old\" and \"new\".)\n",
    "\n",
    "Use a test to see whether \n",
    "consumers rate the attractiveness, and their likelihood to purchase, higher for a new-style can than for the traditional-style can. First make a boxplot.\n",
    "\n",
    "A few results\n",
    "- AO vs AN: pvalue=1.32316e-07 < 0.05 => the attractiveness of the new-style can is significantly higher than the attractiveness of the traditional-style can\n",
    "\n",
    "- WBO vs WBN: pvalue=2.00845995e-06 < 0.05 => the likelihood to buy the new-style can is significantly higher than the likelihood to buy the traditional-style can\n"
   ]
  },
  {
   "cell_type": "code",
   "metadata": {
    "ExecuteTime": {
     "end_time": "2024-06-01T06:19:26.375391Z",
     "start_time": "2024-06-01T06:19:26.274513Z"
    }
   },
   "source": [
    "df = pd.read_csv('https://raw.githubusercontent.com/HoGentTIN/dsai-labs/main/data/Soft-Drink%20Cans.csv', sep=';')\n",
    "df.head()"
   ],
   "outputs": [
    {
     "data": {
      "text/plain": [
       "   Consumer  AO  AN  WBO  WBN\n",
       "0         1   5   7    4    1\n",
       "1         2   7   7    6    6\n",
       "2         3   6   7    7    6\n",
       "3         4   1   3    1    1\n",
       "4         5   3   4    1    1"
      ],
      "text/html": [
       "<div>\n",
       "<style scoped>\n",
       "    .dataframe tbody tr th:only-of-type {\n",
       "        vertical-align: middle;\n",
       "    }\n",
       "\n",
       "    .dataframe tbody tr th {\n",
       "        vertical-align: top;\n",
       "    }\n",
       "\n",
       "    .dataframe thead th {\n",
       "        text-align: right;\n",
       "    }\n",
       "</style>\n",
       "<table border=\"1\" class=\"dataframe\">\n",
       "  <thead>\n",
       "    <tr style=\"text-align: right;\">\n",
       "      <th></th>\n",
       "      <th>Consumer</th>\n",
       "      <th>AO</th>\n",
       "      <th>AN</th>\n",
       "      <th>WBO</th>\n",
       "      <th>WBN</th>\n",
       "    </tr>\n",
       "  </thead>\n",
       "  <tbody>\n",
       "    <tr>\n",
       "      <th>0</th>\n",
       "      <td>1</td>\n",
       "      <td>5</td>\n",
       "      <td>7</td>\n",
       "      <td>4</td>\n",
       "      <td>1</td>\n",
       "    </tr>\n",
       "    <tr>\n",
       "      <th>1</th>\n",
       "      <td>2</td>\n",
       "      <td>7</td>\n",
       "      <td>7</td>\n",
       "      <td>6</td>\n",
       "      <td>6</td>\n",
       "    </tr>\n",
       "    <tr>\n",
       "      <th>2</th>\n",
       "      <td>3</td>\n",
       "      <td>6</td>\n",
       "      <td>7</td>\n",
       "      <td>7</td>\n",
       "      <td>6</td>\n",
       "    </tr>\n",
       "    <tr>\n",
       "      <th>3</th>\n",
       "      <td>4</td>\n",
       "      <td>1</td>\n",
       "      <td>3</td>\n",
       "      <td>1</td>\n",
       "      <td>1</td>\n",
       "    </tr>\n",
       "    <tr>\n",
       "      <th>4</th>\n",
       "      <td>5</td>\n",
       "      <td>3</td>\n",
       "      <td>4</td>\n",
       "      <td>1</td>\n",
       "      <td>1</td>\n",
       "    </tr>\n",
       "  </tbody>\n",
       "</table>\n",
       "</div>"
      ]
     },
     "execution_count": 4,
     "metadata": {},
     "output_type": "execute_result"
    }
   ],
   "execution_count": 4
  },
  {
   "metadata": {
    "ExecuteTime": {
     "end_time": "2024-06-01T06:26:25.609822Z",
     "start_time": "2024-06-01T06:26:25.515616Z"
    }
   },
   "cell_type": "code",
   "source": [
    "sns.boxplot(\n",
    "    data={'AO': df['AO'], 'AN': df['AN']}, \n",
    "    orient='h');"
   ],
   "outputs": [
    {
     "data": {
      "text/plain": [
       "<Figure size 640x480 with 1 Axes>"
      ],
      "image/png": "[encoded data removed]"
     },
     "metadata": {},
     "output_type": "display_data"
    }
   ],
   "execution_count": 10
  },
  {
   "metadata": {
    "ExecuteTime": {
     "end_time": "2024-06-01T06:25:20.562469Z",
     "start_time": "2024-06-01T06:25:20.555464Z"
    }
   },
   "cell_type": "code",
   "source": [
    "#AO VS AN\n",
    "stats.ttest_rel(df['AO'], df['AN'], alternative='less')"
   ],
   "outputs": [
    {
     "data": {
      "text/plain": [
       "TtestResult(statistic=-5.351419141432879, pvalue=1.3231562068750382e-07, df=179)"
      ]
     },
     "execution_count": 8,
     "metadata": {},
     "output_type": "execute_result"
    }
   ],
   "execution_count": 8
  },
  {
   "metadata": {
    "ExecuteTime": {
     "end_time": "2024-06-01T06:26:11.430095Z",
     "start_time": "2024-06-01T06:26:11.424898Z"
    }
   },
   "cell_type": "code",
   "source": [
    "#AO VS AN\n",
    "def cohen_d(a, b):\n",
    "    na = len(a)\n",
    "    nb = len(b)\n",
    "    pooled_sd = np.sqrt(((na - 1) * np.var(a, ddof=1) +\n",
    "                         (nb - 1) * np.var(b, ddof=1)) / (na + nb - 2))\n",
    "    return (np.mean(b) - np.mean(a)) / pooled_sd\n",
    "\n",
    "\n",
    "cohen_d(df['AO'], df['AN'])"
   ],
   "outputs": [
    {
     "data": {
      "text/plain": [
       "0.29166373623069847"
      ]
     },
     "execution_count": 9,
     "metadata": {},
     "output_type": "execute_result"
    }
   ],
   "execution_count": 9
  },
  {
   "metadata": {
    "ExecuteTime": {
     "end_time": "2024-06-01T06:26:47.770114Z",
     "start_time": "2024-06-01T06:26:47.662589Z"
    }
   },
   "cell_type": "code",
   "source": [
    "sns.boxplot(\n",
    "    data={'WBO': df['WBO'], 'WBN': df['WBN']}, \n",
    "    orient='h');"
   ],
   "outputs": [
    {
     "data": {
      "text/plain": [
       "<Figure size 640x480 with 1 Axes>"
      ],
      "image/png": "[encoded data removed]"
     },
     "metadata": {},
     "output_type": "display_data"
    }
   ],
   "execution_count": 11
  },
  {
   "metadata": {
    "ExecuteTime": {
     "end_time": "2024-06-01T06:27:10.214849Z",
     "start_time": "2024-06-01T06:27:10.211230Z"
    }
   },
   "cell_type": "code",
   "source": [
    "#WBO VS WBN\n",
    "stats.ttest_rel(df['WBO'], df['WBN'], alternative='less')"
   ],
   "outputs": [
    {
     "data": {
      "text/plain": [
       "TtestResult(statistic=-4.757802744662339, pvalue=2.0084599545902627e-06, df=179)"
      ]
     },
     "execution_count": 12,
     "metadata": {},
     "output_type": "execute_result"
    }
   ],
   "execution_count": 12
  },
  {
   "metadata": {
    "ExecuteTime": {
     "end_time": "2024-06-01T06:27:40.788950Z",
     "start_time": "2024-06-01T06:27:40.784222Z"
    }
   },
   "cell_type": "code",
   "source": "cohen_d(df['WBO'], df['WBN'])",
   "outputs": [
    {
     "data": {
      "text/plain": [
       "0.23940305792832717"
      ]
     },
     "execution_count": 13,
     "metadata": {},
     "output_type": "execute_result"
    }
   ],
   "execution_count": 13
  }
 ],
 "metadata": {
  "language_info": {
   "name": "python"
  },
  "orig_nbformat": 4,
  "kernelspec": {
   "name": "python3",
   "language": "python",
   "display_name": "Python 3 (ipykernel)"
  }
 },
 "nbformat": 4,
 "nbformat_minor": 2
}
