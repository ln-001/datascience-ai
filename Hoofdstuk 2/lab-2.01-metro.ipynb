{
 "cells": [
  {
   "cell_type": "markdown",
   "metadata": {
    "id": "dYTxJWJG5miJ"
   },
   "source": [
    "# Lab 2.01 - Univariate Analysis\n"
   ]
  },
  {
   "cell_type": "code",
   "metadata": {
    "id": "MvwMKfrI8X-p",
    "ExecuteTime": {
     "end_time": "2024-05-09T10:30:58.997309Z",
     "start_time": "2024-05-09T10:30:58.993220Z"
    }
   },
   "source": [
    "# Importing the necessary packages\n",
    "import numpy as np                                  # \"Scientific computing\"\n",
    "import scipy.stats as stats                         # Statistical tests\n",
    "\n",
    "import pandas as pd                                 # Data Frame\n",
    "from pandas.api.types import CategoricalDtype\n",
    "\n",
    "import matplotlib.pyplot as plt                     # Basic visualisation\n",
    "from statsmodels.graphics.mosaicplot import mosaic  # Mosaic diagram\n",
    "import seaborn as sns                               # Advanced data visualisation"
   ],
   "outputs": [],
   "execution_count": 1
  },
  {
   "cell_type": "markdown",
   "metadata": {
    "id": "4ZzNUVCY8a6w"
   },
   "source": [
    "## Exercise 1 - metro\n",
    "\n",
    "At a metro station, a regular passenger records how long (in seconds) he has to wait for a train to arrive once he gets to the platform.  \n",
    "Find the median and the interquartile range of these times.\n",
    "\n",
    "Source: Complete Probability & Statistics 1 for Cambridge International As & A Level  \n",
    "Help: https://numpy.org/devdocs/reference/generated/numpy.quantile.html\n",
    "\n",
    "```\n",
    "Mean: 54.45  \n",
    "Inter Quartile Range: 54.5\n",
    "```"
   ]
  },
  {
   "cell_type": "code",
   "metadata": {
    "id": "leGjVujR5miN",
    "ExecuteTime": {
     "end_time": "2024-05-09T10:33:26.019566Z",
     "start_time": "2024-05-09T10:33:26.017086Z"
    }
   },
   "source": "a = np.array([87, 42, 0, 62, 124, 0, 58, 37, 74, 94, 182, 23, 17, 62, 29, 17, 82, 54, 0, 45])",
   "outputs": [],
   "execution_count": 5
  },
  {
   "metadata": {
    "ExecuteTime": {
     "end_time": "2024-05-09T10:40:12.903235Z",
     "start_time": "2024-05-09T10:40:12.899852Z"
    }
   },
   "cell_type": "code",
   "source": "np.mean(a)",
   "outputs": [
    {
     "data": {
      "text/plain": [
       "54.45"
      ]
     },
     "execution_count": 12,
     "metadata": {},
     "output_type": "execute_result"
    }
   ],
   "execution_count": 12
  },
  {
   "metadata": {
    "ExecuteTime": {
     "end_time": "2024-05-09T10:34:23.035310Z",
     "start_time": "2024-05-09T10:34:23.030798Z"
    }
   },
   "cell_type": "code",
   "source": "np.median(a)",
   "outputs": [
    {
     "data": {
      "text/plain": [
       "49.5"
      ]
     },
     "execution_count": 7,
     "metadata": {},
     "output_type": "execute_result"
    }
   ],
   "execution_count": 7
  },
  {
   "metadata": {
    "ExecuteTime": {
     "end_time": "2024-05-09T10:56:22.134339Z",
     "start_time": "2024-05-09T10:56:22.130600Z"
    }
   },
   "cell_type": "code",
   "source": "np.quantile(a,0.75) - np.quantile(a,0.25)",
   "outputs": [
    {
     "data": {
      "text/plain": [
       "54.5"
      ]
     },
     "execution_count": 13,
     "metadata": {},
     "output_type": "execute_result"
    }
   ],
   "execution_count": 13
  }
 ],
 "metadata": {
  "colab": {
   "provenance": []
  },
  "gpuClass": "standard",
  "kernelspec": {
   "display_name": "Python 3 (ipykernel)",
   "name": "python3",
   "language": "python"
  },
  "language_info": {
   "name": "python"
  },
  "orig_nbformat": 4
 },
 "nbformat": 4,
 "nbformat_minor": 0
}
